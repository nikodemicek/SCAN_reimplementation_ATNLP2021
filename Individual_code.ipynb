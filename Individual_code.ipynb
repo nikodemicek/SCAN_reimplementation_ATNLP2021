{
  "nbformat": 4,
  "nbformat_minor": 0,
  "metadata": {
    "accelerator": "GPU",
    "colab": {
      "name": "Individual code.ipynb",
      "provenance": [],
      "collapsed_sections": [],
      "toc_visible": true,
      "machine_shape": "hm"
    },
    "kernelspec": {
      "display_name": "Python 3",
      "name": "python3"
    }
  },
  "cells": [
    {
      "cell_type": "markdown",
      "metadata": {
        "id": "ZYTOm-bUhoGf"
      },
      "source": [
        "# ATNLP 2020 - University of Copenhagen\r\n",
        "Final project consisting of group reimplementation of Lake and Baroni 2018 and an additional model which aims to improve on the results of the classical seq2seq RNNs.\r\n",
        "\r\n"
      ]
    },
    {
      "cell_type": "markdown",
      "metadata": {
        "id": "Xxxve886sZ6-"
      },
      "source": [
        "## 1. Instantiate necessary packages"
      ]
    },
    {
      "cell_type": "code",
      "metadata": {
        "colab": {
          "base_uri": "https://localhost:8080/"
        },
        "id": "NWkyAG-Q_FO9",
        "outputId": "51cb78cf-22ee-4572-e1ba-45e1d9e9ebb3"
      },
      "source": [
        "\n",
        "import torch\n",
        "import torch.utils.data\n",
        "import torch.nn.functional as F\n",
        "import torch.nn as nn\n",
        "from torch import optim\n",
        "from torch.utils.data import Dataset,DataLoader\n",
        "from torch import Tensor\n",
        "\n",
        "from typing import List, Tuple\n",
        "import re\n",
        "import pandas as pd\n",
        "import time\n",
        "import random\n",
        "import matplotlib.pyplot as plt\n",
        "import matplotlib.ticker as ticker\n",
        "import numpy as np\n",
        "import math\n",
        "plt.switch_backend('agg')\n",
        "\n",
        "device = torch.device(\"cuda\" if torch.cuda.is_available() else \"cpu\")\n",
        "from google.colab import drive\n",
        "drive.mount('/content/drive')\n",
        "\n",
        "%matplotlib inline\n",
        "\n",
        "MAX_LENGTH=48\n",
        "teacher_forcing_ratio = 0.5\n",
        "clip = 5"
      ],
      "execution_count": 1,
      "outputs": [
        {
          "output_type": "stream",
          "text": [
            "Mounted at /content/drive\n"
          ],
          "name": "stdout"
        }
      ]
    },
    {
      "cell_type": "markdown",
      "metadata": {
        "id": "ToraPwvvsPe4"
      },
      "source": [
        "## 2. Load data"
      ]
    },
    {
      "cell_type": "code",
      "metadata": {
        "id": "_Hhd6WmHbbsV"
      },
      "source": [
        "class SCANdata(Dataset):\n",
        "\n",
        "    # Initialize and clean data\n",
        "    def __init__(self,data):\n",
        "      self.commands = data['In']   \n",
        "      self.actions = data['Out']     \n",
        "      self.len = len(data['In'] )\n",
        "    \n",
        "    def __getitem__(self, index):\n",
        "        #important: we add an extra item to our tensors which is a [1]. In both cases, a [1] represent an EOS token\n",
        "        return torch.cat((Tensor(self.commands[index]), Tensor([1]) ),0).view(-1,1), torch.cat((Tensor(self.actions[index]), Tensor([1])),0).view(-1,1)\n",
        "        \n",
        "    def __len__(self):\n",
        "        return self.len"
      ],
      "execution_count": 2,
      "outputs": []
    },
    {
      "cell_type": "code",
      "metadata": {
        "id": "nmbyomnHiUfr"
      },
      "source": [
        "    # Initialize and clean data\n",
        "    def load_data(data):\n",
        "        colnames = [\"In\",\"Out\"]\n",
        "        data = pd.read_csv(data,sep=\"OUT:\",header = None,names=colnames, engine='python')\n",
        "        data['In'] = data['In'].apply(lambda x: re.sub('IN:','', str(x)))\n",
        "        data['In'] = data['In'].apply(lambda x : x.split())\n",
        "        data['Out'] = data['Out'].apply(lambda x : x.split())\n",
        "        return data\n"
      ],
      "execution_count": 3,
      "outputs": []
    },
    {
      "cell_type": "code",
      "metadata": {
        "colab": {
          "base_uri": "https://localhost:8080/",
          "height": 407
        },
        "id": "VwgZzK1AbsAl",
        "outputId": "b409cbe3-31c9-4bb1-8241-95b592ba5e6e"
      },
      "source": [
        "# for experiment no 1 - simple split and size variations (sv)\n",
        "simple_train_path = \"/SCAN/simple_split/tasks_train_simple.txt\"\n",
        "simple_test_path = \"/SCAN/simple_split/tasks_test_simple.txt\"\n",
        "\n",
        "percent_of_commands = 1\n",
        "simple_train_path_sv = f\"/SCAN/simple_split/size_variations/tasks_train_simple_p{str(percent_of_commands)}.txt\"\n",
        "simple_test_path_sv = f\"/SCAN/simple_split/size_variations/tasks_test_simple_p{str(percent_of_commands)}.txt\"\n",
        "\n",
        "\n",
        "#for experiment no 2\n",
        "\n",
        "length_train_path = \"/SCAN/length_split/tasks_train_length.txt\"\n",
        "length_test_path = \"/SCAN/length_split/tasks_test_length.txt\"\n",
        "\n",
        "#for experiment no 3\n",
        "lturn_train_path = \"/SCAN/add_prim_split/tasks_train_addprim_turn_left.txt\"\n",
        "lturn_test_path = \"/SCAN/add_prim_split/tasks_test_addprim_turn_left.txt\"\n",
        "jump_train_path = \"/SCAN/add_prim_split/tasks_train_addprim_jump.txt\"\n",
        "jump_test_path = \"/SCAN/add_prim_split/tasks_test_addprim_jump.txt\"\n",
        "\n",
        "#for exp no 3 jump composed\n",
        "def get_path(num, rep, traintest= 'train'):\n",
        "    path = f\"/SCAN/add_prim_split/with_additional_examples/tasks_{traintest}_addprim_complex_jump_{num}_{rep}.txt\"\n",
        "    return path\n",
        "\n",
        "num,rep = 'num32','rep4'\n",
        "train_composed_jump = get_path(num=num,rep=rep)\n",
        "test_composed_jump = get_path(num=num,rep=rep,traintest = 'test')\n",
        "\n",
        "#load the data from the path into variable\n",
        "train_data = load_data(jump_train_path)\n",
        "test_data = load_data(jump_test_path)\n",
        "\n",
        "train_data"
      ],
      "execution_count": 4,
      "outputs": [
        {
          "output_type": "execute_result",
          "data": {
            "text/html": [
              "<div>\n",
              "<style scoped>\n",
              "    .dataframe tbody tr th:only-of-type {\n",
              "        vertical-align: middle;\n",
              "    }\n",
              "\n",
              "    .dataframe tbody tr th {\n",
              "        vertical-align: top;\n",
              "    }\n",
              "\n",
              "    .dataframe thead th {\n",
              "        text-align: right;\n",
              "    }\n",
              "</style>\n",
              "<table border=\"1\" class=\"dataframe\">\n",
              "  <thead>\n",
              "    <tr style=\"text-align: right;\">\n",
              "      <th></th>\n",
              "      <th>In</th>\n",
              "      <th>Out</th>\n",
              "    </tr>\n",
              "  </thead>\n",
              "  <tbody>\n",
              "    <tr>\n",
              "      <th>0</th>\n",
              "      <td>[jump]</td>\n",
              "      <td>[I_JUMP]</td>\n",
              "    </tr>\n",
              "    <tr>\n",
              "      <th>1</th>\n",
              "      <td>[look, opposite, right, thrice, and, walk, left]</td>\n",
              "      <td>[I_TURN_RIGHT, I_TURN_RIGHT, I_LOOK, I_TURN_RI...</td>\n",
              "    </tr>\n",
              "    <tr>\n",
              "      <th>2</th>\n",
              "      <td>[run, after, run, left]</td>\n",
              "      <td>[I_TURN_LEFT, I_RUN, I_RUN]</td>\n",
              "    </tr>\n",
              "    <tr>\n",
              "      <th>3</th>\n",
              "      <td>[run, twice, and, look, left, thrice]</td>\n",
              "      <td>[I_RUN, I_RUN, I_TURN_LEFT, I_LOOK, I_TURN_LEF...</td>\n",
              "    </tr>\n",
              "    <tr>\n",
              "      <th>4</th>\n",
              "      <td>[run, opposite, left, twice, and, turn, opposi...</td>\n",
              "      <td>[I_TURN_LEFT, I_TURN_LEFT, I_RUN, I_TURN_LEFT,...</td>\n",
              "    </tr>\n",
              "    <tr>\n",
              "      <th>...</th>\n",
              "      <td>...</td>\n",
              "      <td>...</td>\n",
              "    </tr>\n",
              "    <tr>\n",
              "      <th>14665</th>\n",
              "      <td>[look, around, left, and, walk, around, left]</td>\n",
              "      <td>[I_TURN_LEFT, I_LOOK, I_TURN_LEFT, I_LOOK, I_T...</td>\n",
              "    </tr>\n",
              "    <tr>\n",
              "      <th>14666</th>\n",
              "      <td>[run, opposite, right, thrice, after, run, opp...</td>\n",
              "      <td>[I_TURN_LEFT, I_TURN_LEFT, I_RUN, I_TURN_LEFT,...</td>\n",
              "    </tr>\n",
              "    <tr>\n",
              "      <th>14667</th>\n",
              "      <td>[turn, around, right, and, run, right, thrice]</td>\n",
              "      <td>[I_TURN_RIGHT, I_TURN_RIGHT, I_TURN_RIGHT, I_T...</td>\n",
              "    </tr>\n",
              "    <tr>\n",
              "      <th>14668</th>\n",
              "      <td>[walk, around, left, thrice, after, turn, right]</td>\n",
              "      <td>[I_TURN_RIGHT, I_TURN_LEFT, I_WALK, I_TURN_LEF...</td>\n",
              "    </tr>\n",
              "    <tr>\n",
              "      <th>14669</th>\n",
              "      <td>[turn, right, twice, and, look, around, right,...</td>\n",
              "      <td>[I_TURN_RIGHT, I_TURN_RIGHT, I_TURN_RIGHT, I_L...</td>\n",
              "    </tr>\n",
              "  </tbody>\n",
              "</table>\n",
              "<p>14670 rows × 2 columns</p>\n",
              "</div>"
            ],
            "text/plain": [
              "                                                      In                                                Out\n",
              "0                                                 [jump]                                           [I_JUMP]\n",
              "1       [look, opposite, right, thrice, and, walk, left]  [I_TURN_RIGHT, I_TURN_RIGHT, I_LOOK, I_TURN_RI...\n",
              "2                                [run, after, run, left]                        [I_TURN_LEFT, I_RUN, I_RUN]\n",
              "3                  [run, twice, and, look, left, thrice]  [I_RUN, I_RUN, I_TURN_LEFT, I_LOOK, I_TURN_LEF...\n",
              "4      [run, opposite, left, twice, and, turn, opposi...  [I_TURN_LEFT, I_TURN_LEFT, I_RUN, I_TURN_LEFT,...\n",
              "...                                                  ...                                                ...\n",
              "14665      [look, around, left, and, walk, around, left]  [I_TURN_LEFT, I_LOOK, I_TURN_LEFT, I_LOOK, I_T...\n",
              "14666  [run, opposite, right, thrice, after, run, opp...  [I_TURN_LEFT, I_TURN_LEFT, I_RUN, I_TURN_LEFT,...\n",
              "14667     [turn, around, right, and, run, right, thrice]  [I_TURN_RIGHT, I_TURN_RIGHT, I_TURN_RIGHT, I_T...\n",
              "14668   [walk, around, left, thrice, after, turn, right]  [I_TURN_RIGHT, I_TURN_LEFT, I_WALK, I_TURN_LEF...\n",
              "14669  [turn, right, twice, and, look, around, right,...  [I_TURN_RIGHT, I_TURN_RIGHT, I_TURN_RIGHT, I_L...\n",
              "\n",
              "[14670 rows x 2 columns]"
            ]
          },
          "metadata": {
            "tags": []
          },
          "execution_count": 4
        }
      ]
    },
    {
      "cell_type": "code",
      "metadata": {
        "id": "jWstSKH_bwxF"
      },
      "source": [
        "commands = set()\n",
        "actions = set()\n",
        "\n",
        "# Add all our words into a set for getting unique ones\n",
        "for sent in train_data['In']:\n",
        "    for command in sent:\n",
        "        commands.add(command)\n",
        "\n",
        "for sent in train_data['Out']:\n",
        "  for action in sent:\n",
        "    actions.add(action)"
      ],
      "execution_count": 5,
      "outputs": []
    },
    {
      "cell_type": "code",
      "metadata": {
        "id": "MPTI8HnviGpL"
      },
      "source": [
        "def get_vocab_dicts(vocab : set) -> (dict, dict):\n",
        "    # Initialise our dict with a token for padding \n",
        "    # and a token for representing words not in our vocab\n",
        "    w2i = {'<SOS>': 0, '<EOS>': 1, '<PAD>':2}\n",
        "    n_special_toks = len(w2i)\n",
        "    # Add all tokens in vocab to dict\n",
        "    for i, w in enumerate(vocab):\n",
        "        w2i[w] = i + n_special_toks\n",
        "    i2w = dict(enumerate(w2i.keys()))\n",
        "    return w2i, i2w"
      ],
      "execution_count": 6,
      "outputs": []
    },
    {
      "cell_type": "code",
      "metadata": {
        "colab": {
          "base_uri": "https://localhost:8080/"
        },
        "id": "V6vlZUFyjXIw",
        "outputId": "effa1088-5450-42d4-c672-4316eb9e7707"
      },
      "source": [
        "command2idx, idx2command = get_vocab_dicts(commands)\n",
        "\n",
        "action2idx,idx2action = get_vocab_dicts(actions)\n",
        "\n",
        "print(command2idx)\n",
        "print(action2idx)"
      ],
      "execution_count": 7,
      "outputs": [
        {
          "output_type": "stream",
          "text": [
            "{'<SOS>': 0, '<EOS>': 1, '<PAD>': 2, 'opposite': 3, 'run': 4, 'around': 5, 'jump': 6, 'and': 7, 'twice': 8, 'look': 9, 'right': 10, 'after': 11, 'walk': 12, 'turn': 13, 'thrice': 14, 'left': 15}\n",
            "{'<SOS>': 0, '<EOS>': 1, '<PAD>': 2, 'I_WALK': 3, 'I_LOOK': 4, 'I_TURN_LEFT': 5, 'I_JUMP': 6, 'I_TURN_RIGHT': 7, 'I_RUN': 8}\n"
          ],
          "name": "stdout"
        }
      ]
    },
    {
      "cell_type": "code",
      "metadata": {
        "colab": {
          "base_uri": "https://localhost:8080/"
        },
        "id": "ytdzI_tSjbR8",
        "outputId": "28495f59-100f-4021-b515-490c242406fc"
      },
      "source": [
        "# Convert each sentence to a list of indices from the word2idx dict\n",
        "def numericalize(sentence,vocab,w2i : List[str]) -> List[int]:\n",
        "    out = []\n",
        "    for i in sentence:\n",
        "        if i in vocab:\n",
        "            out.append(w2i[i])\n",
        "        else:\n",
        "            out.append(w2i['<UNK>'])\n",
        "    return out\n",
        "\n",
        "#the exact opposite of the numericalize function :)\n",
        "def to_sentence(sequence, i2w : List[int]) -> List[str]:\n",
        "    out = []\n",
        "    for i in sequence:\n",
        "        if i in i2w.keys():\n",
        "            out.append(i2w[i])\n",
        "        else:\n",
        "            out.append(-1)\n",
        "\n",
        "    return out\n",
        "\n",
        "out = to_sentence([3, 3, 6, 13, 4, 4, 3, 9], idx2command)\n",
        "numericalize(out, commands, command2idx)"
      ],
      "execution_count": 8,
      "outputs": [
        {
          "output_type": "execute_result",
          "data": {
            "text/plain": [
              "[3, 3, 6, 13, 4, 4, 3, 9]"
            ]
          },
          "metadata": {
            "tags": []
          },
          "execution_count": 8
        }
      ]
    },
    {
      "cell_type": "code",
      "metadata": {
        "id": "O8WrOXcfjrfE"
      },
      "source": [
        "train_set = {'In':  train_data['In'].apply(numericalize,args=(commands,command2idx)),\n",
        "            'Out': train_data['Out'].apply(numericalize,args=(actions,action2idx))                            \n",
        "            }\n",
        "\n",
        "test_set = {'In':  test_data['In'].apply(numericalize,args=(commands,command2idx)),\n",
        "            'Out': test_data['Out'].apply(numericalize,args=(actions,action2idx))                             \n",
        "            }"
      ],
      "execution_count": 9,
      "outputs": []
    },
    {
      "cell_type": "code",
      "metadata": {
        "id": "SCHt_ZEWruf1"
      },
      "source": [
        "BATCH_SIZE =1\n",
        "\n",
        "from keras.preprocessing.sequence import pad_sequences\n",
        "\n",
        "def pad_collate(batch : Tuple[torch.tensor, torch.tensor], maxlen=50) -> Tuple[torch.tensor, torch.tensor]:\n",
        "    x, y = zip(*batch)\n",
        "    x_list = [i.numpy() for i in x] \n",
        "    maxlen_x = max([len(z) for z in x_list])\n",
        "    x_pad = pad_sequences(x_list, maxlen=maxlen_x, padding=\"post\", truncating=\"post\")\n",
        "    y_list = [i.numpy() for i in y] \n",
        "    maxlen_y = max([len(z) for z in y_list])\n",
        "    y_pad = pad_sequences(y_list, maxlen=maxlen_y, padding=\"post\", truncating=\"post\")\n",
        "    return Tensor(x_pad).to(dtype=torch.long, device=device), Tensor(y_pad).to(dtype=torch.long, device=device)\n",
        "\n",
        "train_dataset = SCANdata(train_set)\n",
        "train_loader = DataLoader(dataset=train_dataset, batch_size=BATCH_SIZE, shuffle=True)\n",
        "\n",
        "test_dataset = SCANdata(test_set)\n",
        "test_loader = DataLoader(dataset=test_dataset, batch_size=BATCH_SIZE, shuffle=False)\n"
      ],
      "execution_count": 10,
      "outputs": []
    },
    {
      "cell_type": "code",
      "metadata": {
        "id": "aFzMZRKynLMn"
      },
      "source": [
        "# Utilities for dealing with SCAN dataset\r\n",
        "from torchtext.data import Field\r\n",
        "UNK_TOKEN = '<UNK>'\r\n",
        "PAD_TOKEN = '<PAD>'\r\n",
        "BOS_TOKEN = '<BOS>'\r\n",
        "EOS_TOKEN = '<EOS>'\r\n",
        "\r\n",
        "\r\n",
        "# Fields for source (SRC) and target (TRG) sequences\r\n",
        "SRC = Field(init_token=BOS_TOKEN,eos_token=EOS_TOKEN)\r\n",
        "TRG = Field(init_token=BOS_TOKEN,eos_token=EOS_TOKEN)\r\n",
        "\r\n",
        "# Build vocabs: fields ensure same vocab used for each partition\r\n",
        "SRC.build_vocab(train_data['In'])\r\n",
        "TRG.build_vocab(train_data['Out'])\r\n"
      ],
      "execution_count": 11,
      "outputs": []
    },
    {
      "cell_type": "code",
      "metadata": {
        "id": "QxxIbpVLI1yJ"
      },
      "source": [
        ""
      ],
      "execution_count": 11,
      "outputs": []
    },
    {
      "cell_type": "markdown",
      "metadata": {
        "id": "DuAwB3xGsu0j"
      },
      "source": [
        "# 3. Group part\r\n",
        "Largely inspired by https://pytorch.org/tutorials/intermediate/seq2seq_translation_tutorial.html"
      ]
    },
    {
      "cell_type": "markdown",
      "metadata": {
        "id": "-VGvzGmgvh5t"
      },
      "source": [
        "## 3.1. Encoder & Decoder"
      ]
    },
    {
      "cell_type": "code",
      "metadata": {
        "id": "8LddfRc1YFUX"
      },
      "source": [
        "class EncoderRNN(nn.Module):\n",
        "    def __init__(self, input_size, hidden_size, dropout_p=0.5, num_layers = 2, model_type='lstm'):\n",
        "        super(EncoderRNN, self).__init__()\n",
        "        self.hidden_size = hidden_size\n",
        "        self.num_layers = num_layers\n",
        "        self.model_type = model_type\n",
        "        self.dropout = nn.Dropout(dropout_p)\n",
        "        self.embedding = nn.Embedding(input_size, hidden_size)\n",
        "\n",
        "        if self.model_type =='lstm':\n",
        "          self.recurrent = nn.LSTM(hidden_size, hidden_size, num_layers, dropout = dropout_p)\n",
        "        else:\n",
        "          self.recurrent = nn.GRU(hidden_size, hidden_size, num_layers, dropout = dropout_p)\n",
        "\n",
        "    def forward(self, input, hidden):\n",
        "        embedded = self.embedding(input).view(1, 1, -1)\n",
        "        output = self.dropout(embedded)\n",
        "        output, hidden = self.recurrent(output, hidden)\n",
        "        return output, hidden\n",
        "\n",
        "    def initHidden(self):\n",
        "      if self.model_type == 'lstm':\n",
        "        return (torch.zeros(self.num_layers, 1, self.hidden_size, device=device), torch.zeros(self.num_layers, 1, self.hidden_size, device=device))\n",
        "      else:\n",
        "        return torch.zeros(self.num_layers, 1, self.hidden_size, device=device)\n",
        "\n",
        "class AttnDecoderRNN(nn.Module):\n",
        "    def __init__(self, hidden_size, output_size, dropout_p=0.5, num_layers=2, model_type='lstm', attention = True):\n",
        "        super(AttnDecoderRNN, self).__init__()\n",
        "        self.model_type = model_type\n",
        "        self.num_layers = num_layers\n",
        "        self.hidden_size = hidden_size\n",
        "        self.attention = attention\n",
        "\n",
        "        self.embedding = nn.Embedding(output_size, hidden_size)\n",
        "\n",
        "        self.w1 = nn.Linear(hidden_size, hidden_size, bias =False)\n",
        "        self.w2 = nn.Linear(hidden_size, hidden_size, bias =False)\n",
        "        self.v = nn.Linear(hidden_size, 1, bias = False)\n",
        "        self.attn = nn.Linear(hidden_size * 2,hidden_size)\n",
        "        self.attn_combine = nn.Linear(hidden_size * 2, hidden_size)\n",
        "        self.dropout = nn.Dropout(dropout_p)\n",
        "\n",
        "        if self.model_type =='lstm':\n",
        "          self.recurrent = nn.LSTM(hidden_size, hidden_size, num_layers, dropout = dropout_p)\n",
        "        else:\n",
        "          self.recurrent = nn.GRU(hidden_size, hidden_size, num_layers, dropout = dropout_p)\n",
        "        self.out = nn.Linear(hidden_size, output_size)\n",
        "\n",
        "    def forward(self, input, hidden, encoder_outputs):\n",
        "        src_len = encoder_outputs.size(0)\n",
        "        embedded = self.embedding(input).view(1, 1, -1)\n",
        "        embedded = self.dropout(embedded)\n",
        "        output = embedded #if we don't have attention\n",
        "\n",
        "        if self.attention:\n",
        "          if self.model_type == 'lstm':\n",
        "            energy = self.v(F.tanh(self.w1(hidden[0][-1])+ self.w2(encoder_outputs)))\n",
        "          else:\n",
        "            energy = self.v(F.tanh(self.w1(hidden[-1])+ self.w2(encoder_outputs)))\n",
        "    \n",
        "          attn_weights = F.softmax(energy.view(1,-1), dim=1)\n",
        "\n",
        "          attn_applied = torch.matmul(attn_weights, encoder_outputs)\n",
        "          \n",
        "          output = torch.cat((embedded[0], attn_applied), 1)\n",
        "          \n",
        "          output = self.attn_combine(output).unsqueeze(0)\n",
        "          output = F.relu(output)\n",
        "\n",
        "        output, hidden = self.recurrent(output, hidden)\n",
        "        output = self.out(output[0])\n",
        "\n",
        "        if self.attention:\n",
        "          return output, hidden, attn_weights\n",
        "        else:\n",
        "          return output, hidden"
      ],
      "execution_count": 26,
      "outputs": []
    },
    {
      "cell_type": "markdown",
      "metadata": {
        "id": "EVn-LFz_vuEN"
      },
      "source": [
        "## 3.2. Train model"
      ]
    },
    {
      "cell_type": "code",
      "metadata": {
        "id": "NWiML3pKYZ2V"
      },
      "source": [
        "def train(input_tensor, target_tensor, encoder, decoder, encoder_optimizer, decoder_optimizer, criterion):\n",
        "    encoder.train()\n",
        "    decoder.train()\n",
        "    encoder_hidden = encoder.initHidden()\n",
        "    encoder_optimizer.zero_grad()\n",
        "    decoder_optimizer.zero_grad()\n",
        "\n",
        "    input_length = input_tensor.size(0)\n",
        "    target_length = target_tensor.size(0)\n",
        "\n",
        "    encoder_outputs = torch.zeros(input_length, encoder.hidden_size, device=device)\n",
        "\n",
        "    loss = 0\n",
        "    for ei in range(input_length):\n",
        "        encoder_output, encoder_hidden = encoder(input_tensor[ei], encoder_hidden)\n",
        "        encoder_outputs[ei] = encoder_output[0, 0]\n",
        "\n",
        "    decoder_input = torch.tensor([[0]], device=device) #SOS tag\n",
        "    decoder_hidden = encoder_hidden\n",
        "    use_teacher_forcing = True if random.random() < teacher_forcing_ratio else False\n",
        "\n",
        "    for di in range(target_length):\n",
        "        if decoder.attention:\n",
        "          decoder_output, decoder_hidden, decoder_attention = decoder(decoder_input, decoder_hidden, encoder_outputs)\n",
        "        else:\n",
        "          decoder_output, decoder_hidden = decoder(decoder_input, decoder_hidden, encoder_outputs)\n",
        "        loss += criterion(decoder_output, target_tensor[di])\n",
        "\n",
        "        if use_teacher_forcing:\n",
        "          decoder_input = target_tensor[di]  # Teacher forcing\n",
        "        else:\n",
        "          topv, topi = decoder_output.topk(1)\n",
        "          decoder_input = topi.squeeze().detach()  # detach from history as input\n",
        "          if decoder_input.item() == 1: #end of sentence\n",
        "              break\n",
        "\n",
        "    loss.backward()\n",
        "    torch.nn.utils.clip_grad_norm_(encoder.parameters(), clip)\n",
        "    torch.nn.utils.clip_grad_norm_(decoder.parameters(), clip)\n",
        "    encoder_optimizer.step()\n",
        "    decoder_optimizer.step()\n",
        "\n",
        "    return loss.item() / target_length"
      ],
      "execution_count": 27,
      "outputs": []
    },
    {
      "cell_type": "code",
      "metadata": {
        "id": "V1dsQvVzYaa1"
      },
      "source": [
        "def asMinutes(s):\n",
        "    m = math.floor(s / 60)\n",
        "    s -= m * 60\n",
        "    return '%dm %ds' % (m, s)\n",
        "\n",
        "\n",
        "def timeSince(since, percent):\n",
        "    now = time.time()\n",
        "    s = now - since\n",
        "    es = s / (percent)\n",
        "    rs = es - s\n",
        "    return '%s (- %s)' % (asMinutes(s), asMinutes(rs))\n",
        "\n",
        "def trainIters(encoder, decoder, n_iters, print_every=1000, plot_every=100, learning_rate=0.001):\n",
        "    start = time.time()\n",
        "    plot_losses = []\n",
        "    print_loss_total = 0  # Reset every print_every\n",
        "    plot_loss_total = 0  # Reset every plot_every\n",
        "    \n",
        "    encoder_optimizer = optim.Adam(encoder.parameters(), lr=learning_rate)\n",
        "    decoder_optimizer = optim.Adam(decoder.parameters(), lr=learning_rate)\n",
        "    criterion = nn.CrossEntropyLoss()\n",
        "\n",
        "    for i in range(1, n_iters + 1):\n",
        "        training_pair = next(iter(train_loader))\n",
        "        input_tensor = training_pair[0].view(-1,1).long().to(device=device)\n",
        "        target_tensor = training_pair[1].view(-1,1).long().to(device=device)\n",
        "        loss = train(input_tensor, target_tensor, encoder,\n",
        "                     decoder, encoder_optimizer, decoder_optimizer, criterion)\n",
        "        print_loss_total += loss\n",
        "        plot_loss_total += loss\n",
        "\n",
        "        if i % print_every == 0:\n",
        "            print_loss_avg = print_loss_total / print_every\n",
        "            print_loss_total = 0\n",
        "            print('%s (%d %d%%) %.4f' % (timeSince(start, i / n_iters),\n",
        "                                         i, i / n_iters * 100, print_loss_avg))\n",
        "\n",
        "        if i % plot_every == 0:\n",
        "            plot_loss_avg = plot_loss_total / plot_every\n",
        "            plot_losses.append(plot_loss_avg)\n",
        "            plot_loss_total = 0\n",
        "\n",
        "    showPlot(plot_losses)"
      ],
      "execution_count": 28,
      "outputs": []
    },
    {
      "cell_type": "code",
      "metadata": {
        "id": "eU21QGPiYfK9"
      },
      "source": [
        "def showPlot(points):\n",
        "    plt.figure()\n",
        "    fig, ax = plt.subplots()\n",
        "    # this locator puts ticks at regular intervals\n",
        "    loc = ticker.MultipleLocator(base=0.2)\n",
        "    ax.yaxis.set_major_locator(loc)\n",
        "    plt.plot(points)\n",
        "\n",
        "def evaluate(encoder, decoder, input_tensor, max_length=MAX_LENGTH):\n",
        "    encoder.eval()\n",
        "    decoder.eval()\n",
        "    with torch.no_grad():\n",
        "        input_length = input_tensor.size(0)\n",
        "        encoder_hidden = encoder.initHidden()\n",
        "\n",
        "        encoder_outputs = torch.zeros(input_length, encoder.hidden_size, device=device)\n",
        "\n",
        "        for ei in range(input_length):\n",
        "            encoder_output, encoder_hidden = encoder(input_tensor[ei], encoder_hidden)\n",
        "            encoder_outputs[ei] += encoder_output[0, 0]\n",
        "\n",
        "        decoder_input = torch.tensor([[0]], device=device)  # start with a [0] tensor, which is the SOS token\n",
        "        decoder_hidden = encoder_hidden\n",
        "        decoded_words = []\n",
        "        decoder_attentions = torch.zeros(max_length, input_length)\n",
        "\n",
        "        for di in range(max_length):\n",
        "            if decoder.attention:\n",
        "              decoder_output, decoder_hidden, decoder_attention = decoder(decoder_input, decoder_hidden, encoder_outputs)\n",
        "              decoder_attentions[di] = decoder_attention.data.view(-1)\n",
        "            else:\n",
        "              decoder_output, decoder_hidden = decoder(decoder_input, decoder_hidden, encoder_outputs)\n",
        "            \n",
        "            topv, topi = decoder_output.data.topk(1)\n",
        "            if topi.item() == 1: #EOS tag\n",
        "                break\n",
        "            else:\n",
        "                decoded_words.append(topi.item())\n",
        "\n",
        "            decoder_input = topi.squeeze().detach()\n",
        "\n",
        "        return decoded_words, decoder_attentions[:di + 1]\n",
        "\n",
        "\n",
        "def evaluateOracle(encoder, decoder, input_tensor, output_tensor):\n",
        "    encoder.eval()\n",
        "    decoder.eval()\n",
        "    with torch.no_grad():\n",
        "        input_length = input_tensor.size(0)\n",
        "        output_length = output_tensor.size(0)\n",
        "        encoder_hidden = encoder.initHidden()\n",
        "\n",
        "        encoder_outputs = torch.zeros(input_length, encoder.hidden_size, device=device)\n",
        "\n",
        "        for ei in range(input_length):\n",
        "            encoder_output, encoder_hidden = encoder(input_tensor[ei], encoder_hidden)\n",
        "            encoder_outputs[ei] += encoder_output[0, 0]\n",
        "\n",
        "        decoder_input = torch.tensor([[0]], device=device)  # start with a [0] tensor, which is the SOS token\n",
        "        decoder_hidden = encoder_hidden\n",
        "        decoded_words = []\n",
        "        decoder_attentions = torch.zeros(output_length, input_length)\n",
        "\n",
        "        for di in range(output_length-1):\n",
        "            if decoder.attention:\n",
        "              decoder_output, decoder_hidden, decoder_attention = decoder(decoder_input, decoder_hidden, encoder_outputs)\n",
        "              decoder_attentions[di] = decoder_attention.data.view(-1)\n",
        "            else:\n",
        "              decoder_output, decoder_hidden = decoder(decoder_input, decoder_hidden, encoder_outputs)\n",
        "            topv, topi = decoder_output.data.topk(2)\n",
        "            if topi[0][0] == 1: #EOS tag\n",
        "                decoded_words.append(topi[0][1].item())\n",
        "                decoder_input =topi[0][1]\n",
        "            else:\n",
        "                decoded_words.append(topi[0][0].item())\n",
        "                decoder_input = topi[0][0]\n",
        "\n",
        "        return decoded_words, decoder_attentions[:di + 1]\n"
      ],
      "execution_count": 29,
      "outputs": []
    },
    {
      "cell_type": "code",
      "metadata": {
        "colab": {
          "base_uri": "https://localhost:8080/",
          "height": 739
        },
        "id": "iX_1HqPicsmw",
        "outputId": "5f2d257f-ea2c-48f9-eec3-8e7e85fb0e04"
      },
      "source": [
        "hidden_size = 100\n",
        "model_type = 'lstm'\n",
        "dropout_p = 0.1\n",
        "attention = True\n",
        "num_layers = 1\n",
        "encoder1 = EncoderRNN(len(command2idx), hidden_size, dropout_p=dropout_p, model_type = model_type, num_layers = num_layers).to(device)\n",
        "attn_decoder1 = AttnDecoderRNN(hidden_size, len(action2idx), dropout_p=dropout_p, model_type = model_type, attention = attention, num_layers = num_layers).to(device)\n",
        "trainIters(encoder1, attn_decoder1, 100000, print_every=5000)"
      ],
      "execution_count": 30,
      "outputs": [
        {
          "output_type": "stream",
          "text": [
            "/usr/local/lib/python3.6/dist-packages/torch/nn/modules/rnn.py:61: UserWarning: dropout option adds dropout after all but last recurrent layer, so non-zero dropout expects num_layers greater than 1, but got dropout=0.1 and num_layers=1\n",
            "  \"num_layers={}\".format(dropout, num_layers))\n",
            "/usr/local/lib/python3.6/dist-packages/torch/nn/functional.py:1628: UserWarning: nn.functional.tanh is deprecated. Use torch.tanh instead.\n",
            "  warnings.warn(\"nn.functional.tanh is deprecated. Use torch.tanh instead.\")\n"
          ],
          "name": "stderr"
        },
        {
          "output_type": "stream",
          "text": [
            "2m 42s (- 51m 18s) (5000 5%) 0.6191\n",
            "5m 25s (- 48m 47s) (10000 10%) 0.2354\n",
            "8m 9s (- 46m 11s) (15000 15%) 0.1464\n",
            "10m 49s (- 43m 18s) (20000 20%) 0.1079\n",
            "13m 30s (- 40m 32s) (25000 25%) 0.0813\n",
            "16m 10s (- 37m 43s) (30000 30%) 0.0843\n",
            "18m 51s (- 35m 0s) (35000 35%) 0.0511\n",
            "21m 31s (- 32m 17s) (40000 40%) 0.0492\n",
            "24m 12s (- 29m 34s) (45000 45%) 0.0407\n",
            "26m 54s (- 26m 54s) (50000 50%) 0.0384\n",
            "29m 37s (- 24m 14s) (55000 55%) 0.0343\n",
            "32m 21s (- 21m 34s) (60000 60%) 0.0290\n",
            "35m 5s (- 18m 53s) (65000 65%) 0.0355\n",
            "37m 51s (- 16m 13s) (70000 70%) 0.0302\n",
            "40m 35s (- 13m 31s) (75000 75%) 0.0264\n",
            "43m 20s (- 10m 50s) (80000 80%) 0.0195\n",
            "46m 5s (- 8m 8s) (85000 85%) 0.0171\n",
            "48m 51s (- 5m 25s) (90000 90%) 0.0144\n",
            "51m 41s (- 2m 43s) (95000 95%) 0.0155\n",
            "54m 26s (- 0m 0s) (100000 100%) 0.0209\n"
          ],
          "name": "stdout"
        },
        {
          "output_type": "display_data",
          "data": {
            "text/plain": [
              "<Figure size 432x288 with 0 Axes>"
            ]
          },
          "metadata": {
            "tags": []
          }
        },
        {
          "output_type": "display_data",
          "data": {
            "image/png": "[encoded data removed]",
            "text/plain": [
              "<Figure size 432x288 with 1 Axes>"
            ]
          },
          "metadata": {
            "tags": [],
            "needs_background": "light"
          }
        }
      ]
    },
    {
      "cell_type": "markdown",
      "metadata": {
        "id": "3iV8yRZRiq5o"
      },
      "source": [
        "## 3.3. Evaluate results"
      ]
    },
    {
      "cell_type": "code",
      "metadata": {
        "id": "ZLaEvXtzTRMN",
        "colab": {
          "base_uri": "https://localhost:8080/",
          "height": 337
        },
        "outputId": "c2d4e517-0476-43dd-a203-c4b8a6eab08d"
      },
      "source": [
        "total = {}\n",
        "\n",
        "counts = {}\n",
        "\n",
        "print('Testing on ' + str(train_dataset.len) + ' examples')\n",
        "for idx in range(train_dataset.len):\n",
        "        l = len(train_dataset.actions[idx])\n",
        "        output_words, attentions = evaluate(encoder1, attn_decoder1, train_dataset.__getitem__(idx)[0].long().to(device))\n",
        "        output_sentence = to_sentence(output_words, idx2action)\n",
        "        if(str(train_dataset.actions[idx]) == str(output_words)):\n",
        "          total[l] = total[l] +1 if l in total else 1\n",
        "        counts[l] = counts[l] +1 if l in counts else 1\n",
        "a = pd.Series(total)\n",
        "b = pd.Series(counts)\n",
        "accuracy = a.sum()/b.sum()\n",
        "print('Train  accuracy: ' + str(accuracy))\n",
        "plt.bar(b.keys(), a/b)\n",
        "plt.show()"
      ],
      "execution_count": 31,
      "outputs": [
        {
          "output_type": "stream",
          "text": [
            "Testing on 14670 examples\n"
          ],
          "name": "stdout"
        },
        {
          "output_type": "stream",
          "text": [
            "/usr/local/lib/python3.6/dist-packages/torch/nn/functional.py:1628: UserWarning: nn.functional.tanh is deprecated. Use torch.tanh instead.\n",
            "  warnings.warn(\"nn.functional.tanh is deprecated. Use torch.tanh instead.\")\n"
          ],
          "name": "stderr"
        },
        {
          "output_type": "stream",
          "text": [
            "Train  accuracy: 0.9916155419222904\n"
          ],
          "name": "stdout"
        },
        {
          "output_type": "display_data",
          "data": {
            "image/png": "[encoded data removed]",
            "text/plain": [
              "<Figure size 432x288 with 1 Axes>"
            ]
          },
          "metadata": {
            "tags": [],
            "needs_background": "light"
          }
        }
      ]
    },
    {
      "cell_type": "code",
      "metadata": {
        "id": "HcW--pTYonhe",
        "colab": {
          "base_uri": "https://localhost:8080/",
          "height": 337
        },
        "outputId": "5fc6cdc5-b42f-4a69-d05f-abc782cc51f7"
      },
      "source": [
        "# Oracle test for experiment 2\n",
        "\n",
        "total = {}\n",
        "\n",
        "counts = {}\n",
        "\n",
        "print('Testing on ' + str(test_dataset.len) + ' examples')\n",
        "for idx in range(test_dataset.len):\n",
        "        l = len(test_dataset.actions[idx])\n",
        "        input, output = test_dataset.__getitem__(idx)\n",
        "        output_words, attentions = evaluateOracle(encoder1, attn_decoder1, input.long().to(device), output.long().to(device))\n",
        "        output_sentence = to_sentence(output_words, idx2action)\n",
        "        if(str(test_dataset.actions[idx]) == str(output_words)):\n",
        "          total[l] = total[l] +1 if l in total else 1\n",
        "        counts[l] = counts[l] +1 if l in counts else 1\n",
        "a = pd.Series(total)\n",
        "b = pd.Series(counts)\n",
        "accuracy = a.sum()/b.sum()\n",
        "print('Test accuracy with oracle: ' + str(accuracy))\n",
        "plt.bar(b.keys(), a/b)\n",
        "plt.show()"
      ],
      "execution_count": 32,
      "outputs": [
        {
          "output_type": "stream",
          "text": [
            "Testing on 7706 examples\n"
          ],
          "name": "stdout"
        },
        {
          "output_type": "stream",
          "text": [
            "/usr/local/lib/python3.6/dist-packages/torch/nn/functional.py:1628: UserWarning: nn.functional.tanh is deprecated. Use torch.tanh instead.\n",
            "  warnings.warn(\"nn.functional.tanh is deprecated. Use torch.tanh instead.\")\n"
          ],
          "name": "stderr"
        },
        {
          "output_type": "stream",
          "text": [
            "Test accuracy with oracle: 0.004541915390604724\n"
          ],
          "name": "stdout"
        },
        {
          "output_type": "display_data",
          "data": {
            "image/png": "[encoded data removed]",
            "text/plain": [
              "<Figure size 432x288 with 1 Axes>"
            ]
          },
          "metadata": {
            "tags": [],
            "needs_background": "light"
          }
        }
      ]
    },
    {
      "cell_type": "code",
      "metadata": {
        "id": "uE2HUVwu0qdH",
        "colab": {
          "base_uri": "https://localhost:8080/",
          "height": 337
        },
        "outputId": "beb7c020-314e-4ded-d73e-f18a17d44a83"
      },
      "source": [
        "total = {}\r\n",
        "\r\n",
        "counts = {}\r\n",
        "\r\n",
        "print('Testing on ' + str(test_dataset.len) + ' examples')\r\n",
        "for idx in range(test_dataset.len):\r\n",
        "        l = len(test_dataset.actions[idx])\r\n",
        "        output_words, attentions = evaluate(encoder1, attn_decoder1, test_dataset.__getitem__(idx)[0].long().to(device))\r\n",
        "        output_sentence = to_sentence(output_words, idx2action)\r\n",
        "        if(str(test_dataset.actions[idx]) == str(output_words)):\r\n",
        "          total[l] = total[l] +1 if l in total else 1\r\n",
        "        counts[l] = counts[l] +1 if l in counts else 1\r\n",
        "a = pd.Series(total)\r\n",
        "b = pd.Series(counts)\r\n",
        "accuracy = a.sum()/b.sum()\r\n",
        "print('Test accuracy: ' + str(accuracy))\r\n",
        "plt.bar(b.keys(), a/b)\r\n",
        "plt.show()"
      ],
      "execution_count": 33,
      "outputs": [
        {
          "output_type": "stream",
          "text": [
            "Testing on 7706 examples\n"
          ],
          "name": "stdout"
        },
        {
          "output_type": "stream",
          "text": [
            "/usr/local/lib/python3.6/dist-packages/torch/nn/functional.py:1628: UserWarning: nn.functional.tanh is deprecated. Use torch.tanh instead.\n",
            "  warnings.warn(\"nn.functional.tanh is deprecated. Use torch.tanh instead.\")\n"
          ],
          "name": "stderr"
        },
        {
          "output_type": "stream",
          "text": [
            "Test accuracy: 0.0007786140669608098\n"
          ],
          "name": "stdout"
        },
        {
          "output_type": "display_data",
          "data": {
            "image/png": "[encoded data removed]",
            "text/plain": [
              "<Figure size 432x288 with 1 Axes>"
            ]
          },
          "metadata": {
            "tags": [],
            "needs_background": "light"
          }
        }
      ]
    },
    {
      "cell_type": "code",
      "metadata": {
        "id": "XVw8DxRr8m5L"
      },
      "source": [
        "def visualize(idx, dataset):\n",
        "    output_words, attentions = evaluate(encoder1, attn_decoder1, dataset.__getitem__(idx)[0].long().to(device))\n",
        "    output_sentence = to_sentence(output_words, idx2action)\n",
        "    print(output_words)\n",
        "    print(attentions.shape)\n",
        "    y = to_sentence(dataset.commands[idx], idx2command)+ ['<EOS>']\n",
        "    x = output_sentence+ ['<EOS>']\n",
        "    plt.matshow(attentions.numpy().T)\n",
        "    plt.xticks(range(len(x)), x , fontsize=8, rotation=90)\n",
        "    plt.yticks(range(len(y)), y , fontsize=12)\n",
        "    plt.show()"
      ],
      "execution_count": 34,
      "outputs": []
    },
    {
      "cell_type": "code",
      "metadata": {
        "id": "kMUp3a5FPw4F",
        "colab": {
          "base_uri": "https://localhost:8080/",
          "height": 395
        },
        "outputId": "864c8ca6-bef9-4f06-f7b8-12e3bd2a8169"
      },
      "source": [
        "visualize(3000, test_dataset)"
      ],
      "execution_count": 37,
      "outputs": [
        {
          "output_type": "stream",
          "text": [
            "[7, 8, 7, 4, 7, 8, 7, 8, 5, 3, 5, 3]\n",
            "torch.Size([13, 8])\n"
          ],
          "name": "stdout"
        },
        {
          "output_type": "stream",
          "text": [
            "/usr/local/lib/python3.6/dist-packages/torch/nn/functional.py:1628: UserWarning: nn.functional.tanh is deprecated. Use torch.tanh instead.\n",
            "  warnings.warn(\"nn.functional.tanh is deprecated. Use torch.tanh instead.\")\n"
          ],
          "name": "stderr"
        },
        {
          "output_type": "display_data",
          "data": {
            "image/png": "[encoded data removed]",
            "text/plain": [
              "<Figure size 468x288 with 1 Axes>"
            ]
          },
          "metadata": {
            "tags": [],
            "needs_background": "light"
          }
        }
      ]
    },
    {
      "cell_type": "code",
      "metadata": {
        "id": "Go3ySyW9n-Al",
        "colab": {
          "base_uri": "https://localhost:8080/"
        },
        "outputId": "3a1d3ddb-34fe-4bba-ed98-2b690d2daf96"
      },
      "source": [
        "train_data.apply(lambda x: len(x['In']), axis = 1).describe()"
      ],
      "execution_count": 36,
      "outputs": [
        {
          "output_type": "execute_result",
          "data": {
            "text/plain": [
              "count    14670.000000\n",
              "mean         6.643763\n",
              "std          2.208942\n",
              "min          1.000000\n",
              "25%          6.000000\n",
              "50%          7.000000\n",
              "75%          8.000000\n",
              "max          9.000000\n",
              "dtype: float64"
            ]
          },
          "metadata": {
            "tags": []
          },
          "execution_count": 36
        }
      ]
    },
    {
      "cell_type": "markdown",
      "metadata": {
        "id": "85d5SguCVDT7"
      },
      "source": [
        "# 4. Individual part: Transformer model on SCAN dataset\r\n"
      ]
    },
    {
      "cell_type": "code",
      "metadata": {
        "id": "GzTNEKce7MUc"
      },
      "source": [
        "# Import packages for transformer\r\n",
        "import math\r\n",
        "import copy\r\n",
        "import numpy as np\r\n",
        "import torch\r\n",
        "import torch.nn as nn\r\n",
        "import torch.nn.functional as F\r\n",
        "from torch.nn.init import xavier_uniform_\r\n",
        "from torch.autograd import Variable\r\n",
        "from torch.nn import MultiheadAttention\r\n",
        "\r\n",
        "# For plots\r\n",
        "%matplotlib inline\r\n",
        "import matplotlib.pyplot as plt\r\n",
        "\r\n",
        "MAX_LENGTH = 48\r\n",
        "CLIP = 5"
      ],
      "execution_count": 12,
      "outputs": []
    },
    {
      "cell_type": "code",
      "metadata": {
        "id": "RWTokRzs7znj"
      },
      "source": [
        "#copied from http://nlp.seas.harvard.edu/2018/04/03/attention.html\r\n",
        "\r\n",
        "class PositionalEncoding(nn.Module):\r\n",
        "    \"Implement the PE function.\"\r\n",
        "    def __init__(self, dim_model, dropout, max_len=5000):\r\n",
        "        super(PositionalEncoding, self).__init__()\r\n",
        "        self.dropout = nn.Dropout(p=dropout)\r\n",
        "        \r\n",
        "        # Compute the positional encodings once in log space.\r\n",
        "        pe = torch.zeros(max_len, dim_model)\r\n",
        "        position = torch.arange(0, max_len).unsqueeze(1)\r\n",
        "        div_term = torch.exp(torch.arange(0, dim_model, 2) *\r\n",
        "                             -(math.log(10000.0) / dim_model))\r\n",
        "        pe[:, 0::2] = torch.sin(position * div_term)\r\n",
        "        pe[:, 1::2] = torch.cos(position * div_term)\r\n",
        "        pe = pe.unsqueeze(0)\r\n",
        "        self.register_buffer('pe', pe)\r\n",
        "        \r\n",
        "    def forward(self, x):\r\n",
        "        x = x + Variable(self.pe[:, :x.size(1)], requires_grad=False)\r\n",
        "        return self.dropout(x)\r\n",
        "\r\n",
        "class PositionwiseFeedForward(nn.Module):\r\n",
        "    \"Implements FFN equation.\"\r\n",
        "    def __init__(self, dim_model, d_ff, dropout=0.1):\r\n",
        "        super(PositionwiseFeedForward, self).__init__()\r\n",
        "        self.w_1 = nn.Linear(dim_model, d_ff)\r\n",
        "        self.w_2 = nn.Linear(d_ff, dim_model)\r\n",
        "        self.dropout = nn.Dropout(dropout)\r\n",
        "\r\n",
        "    def forward(self, x):\r\n",
        "        return self.w_2(self.dropout(F.relu(self.w_1(x))))"
      ],
      "execution_count": 13,
      "outputs": []
    },
    {
      "cell_type": "markdown",
      "metadata": {
        "id": "pb_TNDOrksDO"
      },
      "source": [
        "### 4.1. Encoder"
      ]
    },
    {
      "cell_type": "code",
      "metadata": {
        "id": "W2yu-phSVII2"
      },
      "source": [
        "# This code has been inspired  by:\r\n",
        "# https://github.com/bentrevett/pytorch-seq2seq/blob/master/6%20-%20Attention%20is%20All%20You%20Need.ipynb and\r\n",
        "# http://nlp.seas.harvard.edu/2018/04/03/attention.html\r\n",
        "\r\n",
        "def clones(module, N):\r\n",
        "    \"Produce N identical layers.\"\r\n",
        "    return nn.ModuleList([copy.deepcopy(module) for i in range(N)])\r\n",
        "\r\n",
        "class TransformerEncoder(nn.Module):\r\n",
        "    \"Core encoder is a stack of N layers\"\r\n",
        "    def __init__(self,encoder_layer, num_layers):\r\n",
        "        super(TransformerEncoder, self).__init__()\r\n",
        "        self.norm = nn.LayerNorm(encoder_layer.hid_dim)\r\n",
        "        self.layers = clones(encoder_layer, num_layers)\r\n",
        "\r\n",
        "    def forward(self, src, mask=None):\r\n",
        "        for layer in self.layers:\r\n",
        "            src = layer(src, src_mask=mask)\r\n",
        "\r\n",
        "        return self.norm(src)\r\n",
        "\r\n",
        "\r\n",
        "class TransformerEncoderLayer(nn.Module):\r\n",
        "    def __init__(self, hid_dim, n_heads, pwff_dim=200, dropout=0.1):\r\n",
        "        super(TransformerEncoderLayer, self).__init__()\r\n",
        "        self.hid_dim = hid_dim\r\n",
        "\r\n",
        "        # Self attention\r\n",
        "        self.self_attn = MultiHeadAttentionLayer(hid_dim, n_heads, dropout=dropout, device=device)\r\n",
        "        # Feedforward\r\n",
        "        self.pwff = PositionwiseFeedForward(hid_dim,pwff_dim)\r\n",
        "        # Normalization and dropout\r\n",
        "        self.self_attn_layer_norm = nn.LayerNorm(hid_dim)\r\n",
        "        self.pwff_layer_norm = nn.LayerNorm(hid_dim)\r\n",
        "        self.dropout = nn.Dropout(dropout)\r\n",
        "\r\n",
        "    def forward(self, src, src_mask=None):\r\n",
        "        src2, _ = self.self_attn(src, src, src, mask=src_mask)\r\n",
        "        src = self.self_attn_layer_norm(src + self.dropout(src2))\r\n",
        "        src2 = self.pwff(src)\r\n",
        "        src = self.pwff_layer_norm(src + self.dropout(src2))\r\n",
        "        return src\r\n"
      ],
      "execution_count": 14,
      "outputs": []
    },
    {
      "cell_type": "markdown",
      "metadata": {
        "id": "HrtV9VCCkx-p"
      },
      "source": [
        "### 4.2. Decoder"
      ]
    },
    {
      "cell_type": "code",
      "metadata": {
        "id": "1G0c0oDT2wpi"
      },
      "source": [
        "class TransformerDecoder(nn.Module):\r\n",
        "    \"Generic N layer decoder with masking.\"\r\n",
        "    def __init__(self, decoder_layer, num_layers):\r\n",
        "        super(TransformerDecoder, self).__init__()\r\n",
        "\r\n",
        "        self.norm = nn.LayerNorm(decoder_layer.hid_dim)\r\n",
        "        self.layers = clones(decoder_layer, num_layers)\r\n",
        "\r\n",
        "\r\n",
        "    def forward(self, trg, memory, trg_mask=None, memory_mask=None):\r\n",
        "        attn_weights = []\r\n",
        "        output = trg\r\n",
        "        for layer in self.layers:\r\n",
        "            output, attention = layer(output, memory, trg_mask=trg_mask, memory_mask=memory_mask)\r\n",
        "            attn_weights.append(attention)\r\n",
        "\r\n",
        "        output = self.norm(output)\r\n",
        "\r\n",
        "        return output, attn_weights\r\n",
        "\r\n",
        "\r\n",
        "\r\n",
        "class TransformerDecoderLayer(nn.Module):\r\n",
        "    def __init__(self, hid_dim, n_heads, pwff_dim=200, dropout=0.1):\r\n",
        "        super(TransformerDecoderLayer, self).__init__()\r\n",
        "        self.hid_dim = hid_dim\r\n",
        "\r\n",
        "        # Self attention\r\n",
        "        self.self_attn = MultiHeadAttentionLayer(hid_dim, n_heads, dropout=dropout,device=device)\r\n",
        "        self.enc_attn = MultiHeadAttentionLayer(hid_dim, n_heads, dropout=dropout,device=device)\r\n",
        "\r\n",
        "        # Feedforward\r\n",
        "        self.pwff = PositionwiseFeedForward(hid_dim,pwff_dim,dropout)\r\n",
        "\r\n",
        "        # Normalization\r\n",
        "        self.self_attn_layer_norm = nn.LayerNorm(hid_dim)\r\n",
        "        self.enc_attn_layer_norm = nn.LayerNorm(hid_dim)\r\n",
        "        self.ff_layer_norm = nn.LayerNorm(hid_dim)\r\n",
        "\r\n",
        "        # Dropout\r\n",
        "        self.dropout = nn.Dropout(dropout)\r\n",
        "\r\n",
        "    def forward(self, trg, memory, trg_mask=None, memory_mask=None):\r\n",
        "        trg2, _ = self.self_attn(trg, trg, trg, mask=trg_mask)\r\n",
        "        trg = self.self_attn_layer_norm(trg + self.dropout(trg2))\r\n",
        "\r\n",
        "        trg2, attn_weights = self.enc_attn(trg, memory, memory, mask=memory_mask) \r\n",
        "        trg = self.enc_attn_layer_norm(trg + self.dropout(trg2))\r\n",
        "\r\n",
        "        trg2 = self.pwff(trg)\r\n",
        "        trg = self.ff_layer_norm(trg + self.dropout(trg2))\r\n",
        "\r\n",
        "        return trg, attn_weights"
      ],
      "execution_count": 15,
      "outputs": []
    },
    {
      "cell_type": "markdown",
      "metadata": {
        "id": "yLhTGjhplSpb"
      },
      "source": [
        "### 4.3. Attention"
      ]
    },
    {
      "cell_type": "code",
      "metadata": {
        "id": "pjFFPcIWuDuV"
      },
      "source": [
        "#copied from https://github.com/bentrevett/pytorch-seq2seq/blob/master/6%20-%20Attention%20is%20All%20You%20Need.ipynb\r\n",
        "\r\n",
        "class MultiHeadAttentionLayer(nn.Module):\r\n",
        "    def __init__(self, hid_dim, n_heads, dropout, device):\r\n",
        "        super().__init__()\r\n",
        "        \r\n",
        "        assert hid_dim % n_heads == 0\r\n",
        "        \r\n",
        "        self.hid_dim = hid_dim\r\n",
        "        self.n_heads = n_heads\r\n",
        "        self.head_dim = hid_dim // n_heads\r\n",
        "        \r\n",
        "        self.fc_q = nn.Linear(hid_dim, hid_dim)\r\n",
        "        self.fc_k = nn.Linear(hid_dim, hid_dim)\r\n",
        "        self.fc_v = nn.Linear(hid_dim, hid_dim)\r\n",
        "        \r\n",
        "        self.fc_o = nn.Linear(hid_dim, hid_dim)\r\n",
        "        \r\n",
        "        self.dropout = nn.Dropout(dropout)\r\n",
        "        \r\n",
        "        self.scale = torch.sqrt(torch.FloatTensor([self.head_dim])).to(device)\r\n",
        "        \r\n",
        "    def forward(self, query, key, value, mask = None):\r\n",
        "        \r\n",
        "        batch_size = query.shape[0]\r\n",
        "        \r\n",
        "        #query = [batch size, query len, hid dim]\r\n",
        "        #key = [batch size, key len, hid dim]\r\n",
        "        #value = [batch size, value len, hid dim]\r\n",
        "                \r\n",
        "        Q = self.fc_q(query)\r\n",
        "        K = self.fc_k(key)\r\n",
        "        V = self.fc_v(value)\r\n",
        "        \r\n",
        "        #Q = [batch size, query len, hid dim]\r\n",
        "        #K = [batch size, key len, hid dim]\r\n",
        "        #V = [batch size, value len, hid dim]\r\n",
        "                \r\n",
        "        Q = Q.view(batch_size, -1, self.n_heads, self.head_dim).permute(0, 2, 1, 3)\r\n",
        "        K = K.view(batch_size, -1, self.n_heads, self.head_dim).permute(0, 2, 1, 3)\r\n",
        "        V = V.view(batch_size, -1, self.n_heads, self.head_dim).permute(0, 2, 1, 3)\r\n",
        "        \r\n",
        "        #Q = [batch size, n heads, query len, head dim]\r\n",
        "        #K = [batch size, n heads, key len, head dim]\r\n",
        "        #V = [batch size, n heads, value len, head dim]\r\n",
        "                \r\n",
        "        energy = torch.matmul(Q, K.permute(0, 1, 3, 2)) / self.scale\r\n",
        "        \r\n",
        "        #energy = [batch size, n heads, query len, key len]\r\n",
        "        \r\n",
        "        if mask is not None:\r\n",
        "            energy = energy.masked_fill(mask == 0, -1e10)\r\n",
        "        \r\n",
        "        attention = torch.softmax(energy, dim = -1)\r\n",
        "                \r\n",
        "        #attention = [batch size, n heads, query len, key len]\r\n",
        "                \r\n",
        "        x = torch.matmul(self.dropout(attention), V)\r\n",
        "        \r\n",
        "        #x = [batch size, n heads, query len, head dim]\r\n",
        "        \r\n",
        "        x = x.permute(0, 2, 1, 3).contiguous()\r\n",
        "        \r\n",
        "        #x = [batch size, query len, n heads, head dim]\r\n",
        "        \r\n",
        "        x = x.view(batch_size, -1, self.hid_dim)\r\n",
        "        \r\n",
        "        #x = [batch size, query len, hid dim]\r\n",
        "        \r\n",
        "        x = self.fc_o(x)\r\n",
        "        \r\n",
        "        #x = [batch size, query len, hid dim]\r\n",
        "        \r\n",
        "        return x, attention"
      ],
      "execution_count": 16,
      "outputs": []
    },
    {
      "cell_type": "markdown",
      "metadata": {
        "id": "D-sJGk2YHHv9"
      },
      "source": [
        " ## 4.4. Transformer model\r\n"
      ]
    },
    {
      "cell_type": "code",
      "metadata": {
        "id": "w2kEJ2PFNngl"
      },
      "source": [
        "class Transformer(nn.Module):\r\n",
        "    def __init__(self,src_vocab_size,trg_vocab_size,hid_dim,n_heads,\r\n",
        "                 n_layers, pwff_dim, dropout, pad_idx, device):\r\n",
        "        super(Transformer,self).__init__()\r\n",
        "        self.src_vocab_size = src_vocab_size\r\n",
        "        self.trg_vocab_size = trg_vocab_size\r\n",
        "        self.hid_dim = hid_dim\r\n",
        "        self.n_heads = n_heads\r\n",
        "        self.n_layers = n_layers\r\n",
        "        self.pwff_dim  = pwff_dim \r\n",
        "        self.dropout = dropout\r\n",
        "        self.pad_idx = pad_idx\r\n",
        "        self.device = device\r\n",
        "\r\n",
        "        # Initialize parameters\r\n",
        "        self.initialize_parameters()\r\n",
        "\r\n",
        "        # Input\r\n",
        "        self.src_embedding = nn.Embedding(src_vocab_size,hid_dim)\r\n",
        "        self.trg_embedding = nn.Embedding(trg_vocab_size,hid_dim)\r\n",
        "        self.positional_encoding = PositionalEncoding(hid_dim,dropout)\r\n",
        "        # Encoder\r\n",
        "        encoder_layer = TransformerEncoderLayer(hid_dim, n_heads, pwff_dim, dropout)\r\n",
        "        self.encoder = TransformerEncoder(encoder_layer, n_layers)\r\n",
        "\r\n",
        "        # Decoder\r\n",
        "        decoder_layer = TransformerDecoderLayer(hid_dim, n_heads, pwff_dim, dropout)        \r\n",
        "        self.decoder = TransformerDecoder(decoder_layer, n_layers)\r\n",
        "\r\n",
        "        # Output\r\n",
        "        self.linear = nn.Linear(hid_dim,trg_vocab_size)\r\n",
        "\r\n",
        "    def forward(self,src,trg):\r\n",
        "        # Masks\r\n",
        "        src_mask = self.make_src_mask(src)\r\n",
        "        trg_mask = self.make_trg_mask(trg)\r\n",
        "        # Input\r\n",
        "        src = self.src_embedding(src)\r\n",
        "        src = self.positional_encoding(src)\r\n",
        "        trg = self.trg_embedding(trg)\r\n",
        "        trg = self.positional_encoding(trg)\r\n",
        "        # Encoder\r\n",
        "        memory = self.encoder(src, mask=src_mask)\r\n",
        "        # Decoder\r\n",
        "        out, attn_weights = self.decoder(trg, memory, trg_mask=trg_mask,\r\n",
        "                                         memory_mask=src_mask)\r\n",
        "        # Output\r\n",
        "        out = self.linear(out)\r\n",
        "\r\n",
        "        return out, attn_weights\r\n",
        "\r\n",
        "    def make_src_mask(self, src):\r\n",
        "        \r\n",
        "        #src = [batch size, src len]\r\n",
        "        src_mask = (src != self.pad_idx).unsqueeze(1).unsqueeze(2)\r\n",
        "        #src_mask = [batch size, 1, 1, src len]\r\n",
        "\r\n",
        "        return src_mask\r\n",
        "    \r\n",
        "    def make_trg_mask(self, trg):\r\n",
        "        \r\n",
        "        #trg = [batch size, trg len]        \r\n",
        "        trg_pad_mask = (trg != self.pad_idx).unsqueeze(1).unsqueeze(2)\r\n",
        "        #trg_pad_mask = [batch size, 1, 1, trg len]\r\n",
        "        \r\n",
        "        trg_len = trg.shape[1]\r\n",
        "        trg_sub_mask = torch.tril(torch.ones((trg_len, trg_len), device = self.device)).bool()\r\n",
        "        #trg_sub_mask = [trg len, trg len]\r\n",
        "            \r\n",
        "        trg_mask = trg_pad_mask & trg_sub_mask        \r\n",
        "        #trg_mask = [batch size, 1, trg len, trg len]\r\n",
        "        \r\n",
        "        return trg_mask\r\n",
        "\r\n",
        "    def initialize_parameters(self):\r\n",
        "        for p in self.parameters():\r\n",
        "            if p.dim() > 1:\r\n",
        "                xavier_uniform_(p)"
      ],
      "execution_count": 17,
      "outputs": []
    },
    {
      "cell_type": "markdown",
      "metadata": {
        "id": "ZC5D7l1-K9yC"
      },
      "source": [
        "## 4.5. Train transformer"
      ]
    },
    {
      "cell_type": "code",
      "metadata": {
        "id": "K3zHSqELpuIU"
      },
      "source": [
        "def asMinutes(s):\r\n",
        "    m = math.floor(s / 60)\r\n",
        "    s -= m * 60\r\n",
        "    return '%dm %ds' % (m, s)\r\n",
        "\r\n",
        "\r\n",
        "def timeSince(since, percent):\r\n",
        "    now = time.time()\r\n",
        "    s = now - since\r\n",
        "    es = s / (percent)\r\n",
        "    rs = es - s\r\n",
        "    return '%s (remaining - %s)' % (asMinutes(s), asMinutes(rs))"
      ],
      "execution_count": 18,
      "outputs": []
    },
    {
      "cell_type": "code",
      "metadata": {
        "id": "F8Gp2tRJPg6M"
      },
      "source": [
        "def train_transformer(model, n_iters = 50000, report_iter_every = 2000, test_every = len(train_loader), plot_every = 100, clip=CLIP):\r\n",
        "    model.train()\r\n",
        "\r\n",
        "    # Loss function\r\n",
        "    criterion = nn.CrossEntropyLoss(ignore_index=pad_idx).to(device)\r\n",
        "\r\n",
        "    # Optimizer\r\n",
        "    optimizer = optim.Adam(model.parameters(), learning_rate)\r\n",
        "\r\n",
        "    # Setup things to record\r\n",
        "    loss_data = [] # records losses\r\n",
        "    test_accs = [] # records test accuracy\r\n",
        "    print_loss_total = 0\r\n",
        "    plot_loss_total = 0\r\n",
        "    start = time.time()\r\n",
        "\r\n",
        "    # Training loop:\r\n",
        "\r\n",
        "    for i in range(1,n_iters+1):\r\n",
        "        training_pair = next(iter(train_loader))\r\n",
        "        input_tensor = training_pair[0].view(1,-1).long().to(device)\r\n",
        "        target_tensor = training_pair[1].view(1,-1).long().to(device)\r\n",
        "        optimizer.zero_grad()\r\n",
        "        out, _ = model(input_tensor,target_tensor)\r\n",
        "        loss = criterion(out.view(-1,trg_vocab_size),target_tensor.view(-1))\r\n",
        "        print_loss_total += loss\r\n",
        "        plot_loss_total += loss\r\n",
        "        loss.backward()\r\n",
        "        torch.nn.utils.clip_grad_norm_(model.parameters(), clip)\r\n",
        "        optimizer.step()\r\n",
        "        # Record loss\r\n",
        "        if i > 0 and i % report_iter_every == 0:\r\n",
        "            loss_datapoint = loss.data.item()\r\n",
        "            print_loss_avg = print_loss_total / report_iter_every\r\n",
        "            print_loss_total = 0\r\n",
        "            print('Epoch:', int(i / len(train_loader)),\r\n",
        "                  ', Iter: %d (%d%%)' % ( i,  i / n_iters * 100), '\\n', \r\n",
        "                  'Avg. Loss: %.4f' % (print_loss_avg),'\\n', \r\n",
        "                  'Elapsed Time: %s' % timeSince(start, i / n_iters),'\\n', \r\n",
        "                  '='*50)\r\n",
        "\r\n",
        "            loss_data.append(loss_datapoint)\r\n",
        "\r\n",
        "        if i % plot_every == 0:\r\n",
        "            plot_loss_avg = plot_loss_total / plot_every\r\n",
        "            loss_data.append(plot_loss_avg)\r\n",
        "            plot_loss_total = 0\r\n",
        "\r\n",
        "    showPlot(loss_data)\r\n",
        "\r\n",
        "\r\n",
        "    # Checkpoint\r\n",
        "    if i % test_every == 0:\r\n",
        "        # Checkpoint on test data\r\n",
        "        print(\"Checking test accuracy...\")\r\n",
        "        test_acc = test(test_loader, model, pad_idx, device)\r\n",
        "        print(\"Test accuracy is \", test_acc)\r\n",
        "        test_accs.append(test_acc)\r\n",
        "\r\n",
        "\r\n",
        "def showPlot(points):\r\n",
        "    plt.figure()\r\n",
        "    fig, ax = plt.subplots()\r\n",
        "    # this locator puts ticks at regular intervals\r\n",
        "    loc = ticker.MultipleLocator(base=0.2)\r\n",
        "    ax.yaxis.set_major_locator(loc)\r\n",
        "    plt.plot(points)\r\n",
        "\r\n",
        "\r\n",
        "def count_parameters(model):\r\n",
        "    return sum(p.numel() for p in model.parameters() if p.requires_grad)\r\n",
        "\r\n"
      ],
      "execution_count": 19,
      "outputs": []
    },
    {
      "cell_type": "code",
      "metadata": {
        "id": "XpS8-2rlPg0s"
      },
      "source": [
        "# Function for testing models - based on https://github.com/jlrussin/transformer_scan/blob/master/test.py\r\n",
        "\r\n",
        "def accuracy(data, model, pad_idx, device):\r\n",
        "    model.eval()\r\n",
        "    with torch.no_grad():\r\n",
        "        all_correct_trials = [] # list of booleans indicating whether correct\r\n",
        "        for batch in data:\r\n",
        "            input_tensor = batch[0].view(1,-1).long().to(device)\r\n",
        "            target_tensor = batch[1].view(1,-1).long().to(device)\r\n",
        "\r\n",
        "            out, _ = model(input_tensor,target_tensor)\r\n",
        "            preds = torch.argmax(out,dim=2)\r\n",
        "            correct_pred = preds == target_tensor\r\n",
        "            correct_pred = correct_pred.cpu().numpy()\r\n",
        "            mask = target_tensor == pad_idx # mask out padding\r\n",
        "            mask = mask.cpu().numpy()\r\n",
        "            correct = np.logical_or(mask,correct_pred)\r\n",
        "            correct = correct.all(0).tolist()\r\n",
        "            all_correct_trials += correct\r\n",
        "\r\n",
        "    accuracy = np.mean(all_correct_trials)\r\n",
        "    model.train()\r\n",
        "    return accuracy"
      ],
      "execution_count": 20,
      "outputs": []
    },
    {
      "cell_type": "markdown",
      "metadata": {
        "id": "0pwPndLM3RIH"
      },
      "source": [
        "## 4.6. Run Transformer"
      ]
    },
    {
      "cell_type": "code",
      "metadata": {
        "colab": {
          "base_uri": "https://localhost:8080/",
          "height": 1000
        },
        "id": "YmZMcabtPguT",
        "outputId": "3e4642f1-70a5-4a0e-9b43-d393b9e127a9"
      },
      "source": [
        "n_iters = 5000\r\n",
        "report_iter_every = 500\r\n",
        "d_model = 200\r\n",
        "nhead = 4\r\n",
        "num_layers = 2\r\n",
        "dim_feedforward = 800\r\n",
        "dropout = 0.1\r\n",
        "learning_rate = 0.001\r\n",
        "device = 'cpu' # works faster\r\n",
        "\r\n",
        "# vocab\r\n",
        "src_vocab_size = len(SRC.vocab.stoi)\r\n",
        "trg_vocab_size = len(TRG.vocab.stoi)\r\n",
        "pad_idx = SRC.vocab.stoi[PAD_TOKEN]\r\n",
        "\r\n",
        "model = Transformer(src_vocab_size,trg_vocab_size,d_model, nhead, num_layers,\r\n",
        "                    dim_feedforward, dropout,pad_idx,device).to(device)\r\n",
        "\r\n",
        "print(f'The model has {count_parameters(model):,} trainable parameters')\r\n",
        "train_transformer(model, n_iters=n_iters,report_iter_every=report_iter_every)"
      ],
      "execution_count": 21,
      "outputs": [
        {
          "output_type": "stream",
          "text": [
            "The model has 2,261,010 trainable parameters\n",
            "Epoch: 0 , Iter: 500 (10%) \n",
            " Avg. Loss: 0.0558 \n",
            " Elapsed Time: 0m 19s (remaining - 2m 55s) \n",
            " ==================================================\n",
            "Epoch: 0 , Iter: 1000 (20%) \n",
            " Avg. Loss: 0.0004 \n",
            " Elapsed Time: 0m 38s (remaining - 2m 35s) \n",
            " ==================================================\n",
            "Epoch: 0 , Iter: 1500 (30%) \n",
            " Avg. Loss: 0.0002 \n",
            " Elapsed Time: 0m 58s (remaining - 2m 15s) \n",
            " ==================================================\n",
            "Epoch: 0 , Iter: 2000 (40%) \n",
            " Avg. Loss: 0.0001 \n",
            " Elapsed Time: 1m 17s (remaining - 1m 56s) \n",
            " ==================================================\n",
            "Epoch: 0 , Iter: 2500 (50%) \n",
            " Avg. Loss: 0.0001 \n",
            " Elapsed Time: 1m 37s (remaining - 1m 37s) \n",
            " ==================================================\n",
            "Epoch: 0 , Iter: 3000 (60%) \n",
            " Avg. Loss: 0.0000 \n",
            " Elapsed Time: 1m 56s (remaining - 1m 17s) \n",
            " ==================================================\n",
            "Epoch: 0 , Iter: 3500 (70%) \n",
            " Avg. Loss: 0.0000 \n",
            " Elapsed Time: 2m 15s (remaining - 0m 58s) \n",
            " ==================================================\n",
            "Epoch: 0 , Iter: 4000 (80%) \n",
            " Avg. Loss: 0.0000 \n",
            " Elapsed Time: 2m 34s (remaining - 0m 38s) \n",
            " ==================================================\n",
            "Epoch: 0 , Iter: 4500 (90%) \n",
            " Avg. Loss: 0.0000 \n",
            " Elapsed Time: 2m 54s (remaining - 0m 19s) \n",
            " ==================================================\n",
            "Epoch: 0 , Iter: 5000 (100%) \n",
            " Avg. Loss: 0.0000 \n",
            " Elapsed Time: 3m 13s (remaining - 0m 0s) \n",
            " ==================================================\n"
          ],
          "name": "stdout"
        },
        {
          "output_type": "display_data",
          "data": {
            "text/plain": [
              "<Figure size 432x288 with 0 Axes>"
            ]
          },
          "metadata": {
            "tags": []
          }
        },
        {
          "output_type": "display_data",
          "data": {
            "image/png": "[encoded data removed]",
            "text/plain": [
              "<Figure size 432x288 with 1 Axes>"
            ]
          },
          "metadata": {
            "tags": [],
            "needs_background": "light"
          }
        }
      ]
    },
    {
      "cell_type": "markdown",
      "metadata": {
        "id": "S2nu929q3XRy"
      },
      "source": [
        "## 4.7. Evaluate transformer performace"
      ]
    },
    {
      "cell_type": "code",
      "metadata": {
        "colab": {
          "base_uri": "https://localhost:8080/"
        },
        "id": "mW0ojQccYWtw",
        "outputId": "c74cbace-a620-4a75-aa37-33ae56fb6b1e"
      },
      "source": [
        "# Checkpoint on test data\r\n",
        "print(\"Checking test accuracy...\")\r\n",
        "test_acc = accuracy(test_loader, model, pad_idx, device)\r\n",
        "print(\"Test accuracy is \", test_acc)"
      ],
      "execution_count": 22,
      "outputs": [
        {
          "output_type": "stream",
          "text": [
            "Checking test accuracy...\n",
            "Test accuracy is  1.0\n"
          ],
          "name": "stdout"
        }
      ]
    },
    {
      "cell_type": "code",
      "metadata": {
        "id": "WdGwj4oUJd3J"
      },
      "source": [
        "# \"translate\" n random commands from dataset into actions\r\n",
        "def translate_commands(model, idx, ds = test_dataset, n=3):\r\n",
        "    model.eval()\r\n",
        "    #idx = random.randint(0,len(ds))\r\n",
        "    print('Showing entry number: ', idx)\r\n",
        "    input_sentence = to_sentence(ds.commands[idx],idx2command)\r\n",
        "    print('>', input_sentence)\r\n",
        "    print('=', to_sentence(ds.actions[idx], idx2action))\r\n",
        "    input_tensor = ds.__getitem__(idx)[0].long().view(1,-1).to(device)\r\n",
        "    #print(input_tensor.shape)\r\n",
        "    target_tensor = ds.__getitem__(idx)[1].long().view(1,-1).to(device)\r\n",
        "    out, attention = model(input_tensor,target_tensor)\r\n",
        "    preds = torch.argmax(out,dim=2)\r\n",
        "    #print(preds)\r\n",
        "    preds = preds.squeeze(dim =1).tolist()\r\n",
        "    translation = to_sentence(preds[0][:-1], idx2action)\r\n",
        "    \r\n",
        "    #print(preds)\r\n",
        "    print('<',translation)\r\n",
        "    return input_sentence,translation, attention\r\n",
        "    #print('<', to_sentence(preds[0][:-1], idx2action))  #[:-1] removes EOS tag\r\n",
        "    #return to_sentence(preds, idx2action)\r\n"
      ],
      "execution_count": 23,
      "outputs": []
    },
    {
      "cell_type": "code",
      "metadata": {
        "id": "j8Pvofi-yXlv"
      },
      "source": [
        "def visualize_attention(model, idx, layer = 'encoder', n_heads = 4, n_rows = 2, n_cols = 2):\r\n",
        "    \r\n",
        "    assert n_rows * n_cols == n_heads\r\n",
        "\r\n",
        "    sentence,translation, attention = translate_commands(model,idx)\r\n",
        "    attention = attention[0] if layer =='encoder' else attention[1]\r\n",
        "\r\n",
        "    fig = plt.figure(figsize=(15,10))  \r\n",
        "\r\n",
        "    for i in range(n_heads):\r\n",
        "        \r\n",
        "        ax = fig.add_subplot(n_rows, n_cols, i+1)\r\n",
        "        _attention = attention.squeeze(0)[i].detach().numpy().T\r\n",
        "\r\n",
        "        ax.matshow(_attention)\r\n",
        "        ax.tick_params(labelsize=12)\r\n",
        "        ax.set_xticklabels(['']+translation+['<eos>'],rotation=90,fontsize=12)\r\n",
        "        ax.set_yticklabels(['']+[t.lower() for t in sentence]+['<eos>'], \r\n",
        "                           rotation=45,fontsize=15)\r\n",
        "\r\n",
        "        ax.xaxis.set_major_locator(ticker.MultipleLocator(1))\r\n",
        "        ax.yaxis.set_major_locator(ticker.MultipleLocator(1))\r\n",
        "\r\n",
        "    fig.tight_layout()\r\n",
        "    plt.show()\r\n"
      ],
      "execution_count": 24,
      "outputs": []
    },
    {
      "cell_type": "code",
      "metadata": {
        "colab": {
          "base_uri": "https://localhost:8080/",
          "height": 816
        },
        "id": "3KOCfHqcsooo",
        "outputId": "e48d8b68-6aca-4580-839f-d43f6f2defca"
      },
      "source": [
        "visualize_attention(model, 3000)"
      ],
      "execution_count": 25,
      "outputs": [
        {
          "output_type": "stream",
          "text": [
            "Showing entry number:  3000\n",
            "> ['walk', 'around', 'left', 'after', 'jump', 'around', 'right']\n",
            "= ['I_TURN_RIGHT', 'I_JUMP', 'I_TURN_RIGHT', 'I_JUMP', 'I_TURN_RIGHT', 'I_JUMP', 'I_TURN_RIGHT', 'I_JUMP', 'I_TURN_LEFT', 'I_WALK', 'I_TURN_LEFT', 'I_WALK', 'I_TURN_LEFT', 'I_WALK', 'I_TURN_LEFT', 'I_WALK']\n",
            "< ['I_TURN_RIGHT', 'I_JUMP', 'I_TURN_RIGHT', 'I_JUMP', 'I_TURN_RIGHT', 'I_JUMP', 'I_TURN_RIGHT', 'I_JUMP', 'I_TURN_LEFT', 'I_WALK', 'I_TURN_LEFT', 'I_WALK', 'I_TURN_LEFT', 'I_WALK', 'I_TURN_LEFT', 'I_WALK']\n"
          ],
          "name": "stdout"
        },
        {
          "output_type": "display_data",
          "data": {
            "image/png": "[encoded data removed]",
            "text/plain": [
              "<Figure size 1080x720 with 4 Axes>"
            ]
          },
          "metadata": {
            "tags": [],
            "needs_background": "light"
          }
        }
      ]
    },
    {
      "cell_type": "markdown",
      "metadata": {
        "id": "Qg7OfuoDTgqh"
      },
      "source": [
        "# 5. Appendix: Different transformer implementation\r\n",
        "\r\n",
        "This work is largely based on https://github.com/jlrussin/transformer_scan.\r\n",
        "It is adjusted to fit the dataloader that we implemented in the group. But since it was built for the same task that I tried to solve, it only serves as a benchmark for the performance of the model implemented in the previous section."
      ]
    },
    {
      "cell_type": "code",
      "metadata": {
        "id": "neOgrYUjTkDX"
      },
      "source": [
        "# Transformer model\r\n",
        "# This code has been repurposed from:\r\n",
        "# https://pytorch.org/tutorials/beginner/transformer_tutorial.html\r\n",
        "\r\n",
        "import math\r\n",
        "import copy\r\n",
        "import numpy as np\r\n",
        "import torch\r\n",
        "import torch.nn as nn\r\n",
        "import torch.nn.functional as F\r\n",
        "from torch.nn.init import xavier_uniform_\r\n",
        "\r\n",
        "\r\n",
        "\r\n",
        "class TransformerEncoder(nn.Module):\r\n",
        "    \"Core encoder is a stack of N layers\"\r\n",
        "    def __init__(self,encoder_layer, num_layers):\r\n",
        "        super(TransformerEncoder, self).__init__()\r\n",
        "        self.norm = nn.LayerNorm(encoder_layer.dim_model)\r\n",
        "        self.layers = clones(encoder_layer, num_layers)\r\n",
        "\r\n",
        "    def forward(self, src, mask=None, src_kp_mask=None):\r\n",
        "        attn_weights = []\r\n",
        "        output = src\r\n",
        "        for mod in self.layers:\r\n",
        "            output, attn_wts = mod(output, src_mask=mask,\r\n",
        "                                   src_kp_mask=src_kp_mask)\r\n",
        "            attn_weights.append(attn_wts)\r\n",
        "\r\n",
        "        output = self.norm(output)\r\n",
        "\r\n",
        "        return output, attn_weights\r\n",
        "\r\n",
        "\r\n",
        "class TransformerDecoder(nn.Module):\r\n",
        "    \"Generic N layer decoder with masking.\"\r\n",
        "    def __init__(self, decoder_layer, num_layers):\r\n",
        "        super(TransformerDecoder, self).__init__()\r\n",
        "\r\n",
        "        self.norm = nn.LayerNorm(decoder_layer.dim_model)\r\n",
        "        self.layers = clones(decoder_layer, num_layers)\r\n",
        "\r\n",
        "    def forward(self, trg, memory, trg_mask=None, memory_mask=None,\r\n",
        "                trg_kp_mask=None, memory_kp_mask=None):\r\n",
        "        attn_weights = []\r\n",
        "        output = trg\r\n",
        "        for mod in self.layers:\r\n",
        "            output, attn_wts = mod(output, memory, trg_mask=trg_mask,\r\n",
        "                memory_mask=memory_mask,\r\n",
        "                trg_kp_mask=trg_kp_mask,\r\n",
        "                memory_kp_mask=memory_kp_mask)\r\n",
        "            attn_weights.append(attn_wts)\r\n",
        "            \r\n",
        "        output = self.norm(output)\r\n",
        "\r\n",
        "        return output, attn_weights\r\n",
        "\r\n",
        "\r\n",
        "class TransformerEncoderLayer(nn.Module):\r\n",
        "    def __init__(self, dim_model, nhead, dim_feedforward=200, dropout=0.1):\r\n",
        "        super(TransformerEncoderLayer, self).__init__()\r\n",
        "        self.dim_model = dim_model\r\n",
        "        self.nhead = nhead\r\n",
        "        self.dim_feedforward = dim_feedforward\r\n",
        "\r\n",
        "        # Self attention\r\n",
        "        self.self_attn = nn.MultiheadAttention(dim_model, nhead, dropout=dropout)\r\n",
        "        # Feedforward\r\n",
        "        self.pwff = PositionwiseFeedForward(dim_model,dim_feedforward)\r\n",
        "        # Normalization\r\n",
        "        self.norm1 = nn.LayerNorm(dim_model)\r\n",
        "        self.norm2 = nn.LayerNorm(dim_model)\r\n",
        "        # Dropout\r\n",
        "        self.dropout1 = nn.Dropout(dropout)\r\n",
        "        self.dropout2 = nn.Dropout(dropout)\r\n",
        "\r\n",
        "\r\n",
        "    def forward(self, src, src_mask=None, src_kp_mask=None):\r\n",
        "        src2, attn_weights = self.self_attn(src, src, src, attn_mask=src_mask,\r\n",
        "                                key_padding_mask=src_kp_mask)\r\n",
        "        src = src + self.dropout1(src2)\r\n",
        "        src = self.norm1(src)\r\n",
        "        src2 = self.pwff(src)\r\n",
        "        src = src + self.dropout2(src2)\r\n",
        "        src = self.norm2(src)\r\n",
        "        return src, attn_weights\r\n",
        "\r\n",
        "\r\n",
        "class TransformerDecoderLayer(nn.Module):\r\n",
        "    def __init__(self, dim_model, nhead, dim_feedforward=200, dropout=0.1):\r\n",
        "        super(TransformerDecoderLayer, self).__init__()\r\n",
        "        self.dim_model = dim_model\r\n",
        "        self.nhead = nhead\r\n",
        "        self.dim_feedforward = dim_feedforward\r\n",
        "\r\n",
        "        # Self attention\r\n",
        "        self.self_attn = nn.MultiheadAttention(dim_model, nhead,\r\n",
        "                                               dropout=dropout)\r\n",
        "        self.multihead_attn = nn.MultiheadAttention(dim_model, nhead,\r\n",
        "                                                    dropout=dropout)\r\n",
        "        # Feedforward\r\n",
        "        self.pwff = PositionwiseFeedForward(dim_model,dim_feedforward)\r\n",
        "        # Normalization\r\n",
        "        self.norm1 = nn.LayerNorm(dim_model)\r\n",
        "        self.norm2 = nn.LayerNorm(dim_model)\r\n",
        "        self.norm3 = nn.LayerNorm(dim_model)\r\n",
        "        # Dropout\r\n",
        "        self.dropout1 = nn.Dropout(dropout)\r\n",
        "        self.dropout2 = nn.Dropout(dropout)\r\n",
        "        self.dropout3 = nn.Dropout(dropout)\r\n",
        "\r\n",
        "\r\n",
        "    def forward(self, trg, memory, trg_mask=None, memory_mask=None,\r\n",
        "                trg_kp_mask=None, memory_kp_mask=None):\r\n",
        "        trg2, attn_weights1 = self.self_attn(trg, trg, trg, attn_mask=trg_mask,\r\n",
        "                                        key_padding_mask=trg_kp_mask)\r\n",
        "        trg = trg + self.dropout1(trg2)\r\n",
        "        trg = self.norm1(trg)\r\n",
        "        trg2, attn_weights2 = self.multihead_attn(trg, memory, memory,\r\n",
        "                                        attn_mask=memory_mask,\r\n",
        "                                        key_padding_mask=memory_kp_mask)\r\n",
        "        trg = trg + self.dropout2(trg2)\r\n",
        "        trg = self.norm2(trg)\r\n",
        "        trg2 = self.pwff(trg)\r\n",
        "        trg = trg + self.dropout3(trg2)\r\n",
        "        trg = self.norm3(trg)\r\n",
        "\r\n",
        "        attn_weights = {'Sublayer1' : attn_weights1,\r\n",
        "                        'Sublayer2' : attn_weights2}\r\n",
        "        return trg, attn_weights\r\n",
        "\r\n",
        "\r\n",
        "def clones(module, N):\r\n",
        "    \"Produce N identical layers.\"\r\n",
        "    return nn.ModuleList([copy.deepcopy(module) for i in range(N)])\r\n"
      ],
      "execution_count": 37,
      "outputs": []
    },
    {
      "cell_type": "code",
      "metadata": {
        "id": "m6xVMQT1TkDY"
      },
      "source": [
        "class Transformer(nn.Module):\r\n",
        "    def __init__(self,src_vocab_size,trg_vocab_size,d_model,nhead,\r\n",
        "                 num_layers, dim_feedforward,dropout,pad_idx,device):\r\n",
        "        super(Transformer,self).__init__()\r\n",
        "        self.src_vocab_size = src_vocab_size\r\n",
        "        self.trg_vocab_size = trg_vocab_size\r\n",
        "        self.d_model = d_model\r\n",
        "        self.nhead = nhead\r\n",
        "        self.num_layers = num_layers\r\n",
        "        self.dim_feedforward = dim_feedforward\r\n",
        "        self.dropout = dropout\r\n",
        "        self.pad_idx = pad_idx\r\n",
        "        self.device = device\r\n",
        "\r\n",
        "        # Input\r\n",
        "        self.src_embedding = nn.Embedding(src_vocab_size,d_model)\r\n",
        "        self.trg_embedding = nn.Embedding(trg_vocab_size,d_model)\r\n",
        "        self.positional_encoding = PositionalEncoding(d_model,dropout)\r\n",
        "        # Encoder\r\n",
        "        encoder_layer = TransformerEncoderLayer(d_model, nhead, dim_feedforward,\r\n",
        "                                                dropout)\r\n",
        "\r\n",
        "        self.encoder = TransformerEncoder(encoder_layer, num_layers)\r\n",
        "        # Decoder\r\n",
        "        decoder_layer = TransformerDecoderLayer(d_model, nhead, dim_feedforward,\r\n",
        "                                                dropout)\r\n",
        "        \r\n",
        "        self.decoder = TransformerDecoder(decoder_layer, num_layers)\r\n",
        "        # Output\r\n",
        "        self.linear = nn.Linear(d_model,trg_vocab_size)\r\n",
        "        # Initialize\r\n",
        "        self._reset_parameters()\r\n",
        "\r\n",
        "    def forward(self,src,trg):\r\n",
        "        # Masks\r\n",
        "        src_mask = None\r\n",
        "        trg_mask,src_kp_mask,trg_kp_mask = self._get_masks(src,trg)\r\n",
        "        # Input\r\n",
        "        src = self.src_embedding(src)\r\n",
        "        src = self.positional_encoding(src)\r\n",
        "        trg = self.trg_embedding(trg)\r\n",
        "        trg = self.positional_encoding(trg)\r\n",
        "        # Encoder\r\n",
        "        memory, enc_attn_wts = self.encoder(src, mask=src_mask,\r\n",
        "                                            src_kp_mask=src_kp_mask)\r\n",
        "        # Decoder\r\n",
        "        memory_mask = None\r\n",
        "        memory_kp_mask = None\r\n",
        "        out, dec_attn_wts = self.decoder(trg, memory, trg_mask=trg_mask,\r\n",
        "                                         memory_mask=memory_mask,\r\n",
        "                                         trg_kp_mask=trg_kp_mask,\r\n",
        "                                         memory_kp_mask=memory_kp_mask)\r\n",
        "        # Output\r\n",
        "        out = self.linear(out)\r\n",
        "        # Attention weights\r\n",
        "        attn_wts = {'Encoder':enc_attn_wts,\r\n",
        "                    'Decoder':dec_attn_wts}\r\n",
        "        return out, attn_wts\r\n",
        "\r\n",
        "    def _get_masks(self,src,trg):\r\n",
        "        sz = trg.shape[0]\r\n",
        "        trg_mask = self._generate_square_subsequent_mask(sz)\r\n",
        "        trg_mask = trg_mask.to(self.device)\r\n",
        "        src_kp_mask = (src == self.pad_idx).transpose(0,1).to(self.device)\r\n",
        "        trg_kp_mask = (trg == self.pad_idx).transpose(0,1).to(self.device)\r\n",
        "        return trg_mask,src_kp_mask,trg_kp_mask\r\n",
        "\r\n",
        "    def _generate_square_subsequent_mask(self,sz):\r\n",
        "        mask = (torch.triu(torch.ones(sz, sz)) == 1).transpose(0, 1)\r\n",
        "        mask = mask.float().masked_fill(mask == 0, float('-inf'))\r\n",
        "        mask = mask.masked_fill(mask == 1, float(0.0))\r\n",
        "        return mask\r\n",
        "\r\n",
        "    def _reset_parameters(self):\r\n",
        "        for p in self.parameters():\r\n",
        "            if p.dim() > 1:\r\n",
        "                xavier_uniform_(p)"
      ],
      "execution_count": 38,
      "outputs": []
    },
    {
      "cell_type": "markdown",
      "metadata": {
        "id": "6_PyrzEqTkDZ"
      },
      "source": [
        "## 5.1. Train transformer"
      ]
    },
    {
      "cell_type": "code",
      "metadata": {
        "id": "WeTBx2MITkDa"
      },
      "source": [
        ""
      ],
      "execution_count": 38,
      "outputs": []
    },
    {
      "cell_type": "code",
      "metadata": {
        "id": "BNEo9hHjTkDa"
      },
      "source": [
        "def asMinutes(s):\r\n",
        "    m = math.floor(s / 60)\r\n",
        "    s -= m * 60\r\n",
        "    return '%dm %ds' % (m, s)\r\n",
        "\r\n",
        "\r\n",
        "def timeSince(since, percent):\r\n",
        "    now = time.time()\r\n",
        "    s = now - since\r\n",
        "    es = s / (percent)\r\n",
        "    rs = es - s\r\n",
        "    return '%s (remaining - %s)' % (asMinutes(s), asMinutes(rs))"
      ],
      "execution_count": 39,
      "outputs": []
    },
    {
      "cell_type": "code",
      "metadata": {
        "id": "QqFKuVNsTkDa"
      },
      "source": [
        "def train_transformer(model, n_iters = 50000, report_iter_every = 2000, test_every = len(train_loader), plot_every = 200,clip=CLIP):\r\n",
        "    model.train()\r\n",
        "    # Loss function\r\n",
        "    criterion = nn.CrossEntropyLoss(ignore_index=pad_idx).to(device)\r\n",
        "\r\n",
        "    # Optimizer\r\n",
        "    optimizer = optim.Adam(model.parameters(), learning_rate)\r\n",
        "\r\n",
        "    # Setup things to record\r\n",
        "    loss_data = [] # records losses\r\n",
        "    test_accs = [] # records test accuracy\r\n",
        "    print_loss_total = 0\r\n",
        "    plot_loss_total = 0\r\n",
        "    start = time.time()\r\n",
        "\r\n",
        "    # Training loop:\r\n",
        "\r\n",
        "    for i in range(1,n_iters+1):\r\n",
        "        training_pair = next(iter(train_loader))\r\n",
        "        input_tensor = training_pair[0].view(-1,1).long().to(device)\r\n",
        "        target_tensor = training_pair[1].view(-1,1).long().to(device)\r\n",
        "        optimizer.zero_grad()\r\n",
        "        out, _ = model(input_tensor,target_tensor)\r\n",
        "        loss = criterion(out.view(-1,trg_vocab_size),target_tensor.view(-1))\r\n",
        "        print_loss_total += loss\r\n",
        "        plot_loss_total += loss\r\n",
        "        loss.backward()\r\n",
        "        torch.nn.utils.clip_grad_norm_(model.parameters(), clip)\r\n",
        "        optimizer.step()\r\n",
        "        # Record loss\r\n",
        "        if i > 0 and i % report_iter_every == 0:\r\n",
        "            loss_datapoint = loss.data.item()\r\n",
        "            print_loss_avg = print_loss_total / report_iter_every\r\n",
        "            print_loss_total = 0\r\n",
        "            print('Epoch:', int(i / len(train_loader)),\r\n",
        "                  ', Iter: %d (%d%%)' % ( i,  i / n_iters * 100), '\\n', \r\n",
        "                  'Avg. Loss: %.4f' % (print_loss_avg),'\\n', \r\n",
        "                  'Elapsed Time: %s' % timeSince(start, i / n_iters),'\\n', \r\n",
        "                  '='*50)\r\n",
        "\r\n",
        "            loss_data.append(loss_datapoint)\r\n",
        "\r\n",
        "        if i % plot_every == 0:\r\n",
        "            plot_loss_avg = plot_loss_total / plot_every\r\n",
        "            loss_data.append(plot_loss_avg)\r\n",
        "            plot_loss_total = 0\r\n",
        "\r\n",
        "    showPlot(loss_data)\r\n",
        "\r\n",
        "\r\n",
        "    # Checkpoint\r\n",
        "    if i % test_every == 0:\r\n",
        "        # Checkpoint on test data\r\n",
        "        print(\"Checking test accuracy...\")\r\n",
        "        test_acc = test(test_loader, model, pad_idx, device)\r\n",
        "        print(\"Test accuracy is \", test_acc)\r\n",
        "        test_accs.append(test_acc)\r\n",
        "\r\n",
        "\r\n",
        "def showPlot(points):\r\n",
        "    plt.figure()\r\n",
        "    fig, ax = plt.subplots()\r\n",
        "    # this locator puts ticks at regular intervals\r\n",
        "    loc = ticker.MultipleLocator(base=0.2)\r\n",
        "    ax.yaxis.set_major_locator(loc)\r\n",
        "    plt.plot(points)\r\n"
      ],
      "execution_count": 40,
      "outputs": []
    },
    {
      "cell_type": "code",
      "metadata": {
        "id": "LMDOGP_iTkDa"
      },
      "source": [
        "# Function for testing models\r\n",
        "import numpy as np\r\n",
        "import torch\r\n",
        "\r\n",
        "def test(data, model, pad_idx, device):\r\n",
        "    model.eval()\r\n",
        "    print(\"Checking test accuracy...\")\r\n",
        "    with torch.no_grad():\r\n",
        "        all_correct_trials = [] # list of booleans indicating whether correct\r\n",
        "        for batch in data:\r\n",
        "            out, _ = model.forward(batch[0].view(-1,1).long().to(device),batch[1].view(-1,1).long().to(device))\r\n",
        "            preds = torch.argmax(out,dim=2)\r\n",
        "            correct_pred = preds == batch[1].view(-1,1).long().to(device)\r\n",
        "            correct_pred = correct_pred.cpu().numpy()\r\n",
        "            mask = batch[1].view(-1,1).long().to(device) == pad_idx # mask out padding\r\n",
        "            mask = mask.cpu().numpy()\r\n",
        "            correct = np.logical_or(mask,correct_pred)\r\n",
        "            correct = correct.all(0).tolist()\r\n",
        "            all_correct_trials += correct\r\n",
        "\r\n",
        "    accuracy = np.mean(all_correct_trials)\r\n",
        "    model.train()\r\n",
        "    return accuracy"
      ],
      "execution_count": 41,
      "outputs": []
    },
    {
      "cell_type": "code",
      "metadata": {
        "colab": {
          "base_uri": "https://localhost:8080/",
          "height": 0
        },
        "id": "C_HCr7FCTkDb",
        "outputId": "c368592b-093f-40d4-851b-851f0c86e83b"
      },
      "source": [
        "n_iters = 5000\r\n",
        "report_iter_every = 500\r\n",
        "d_model = 200\r\n",
        "nhead = 4\r\n",
        "num_layers = 2\r\n",
        "dim_feedforward = 800\r\n",
        "dropout = 0.1\r\n",
        "learning_rate = 0.001\r\n",
        "device = 'cpu' # works faster\r\n",
        "\r\n",
        "# vocab\r\n",
        "src_vocab_size = len(SRC.vocab.stoi)\r\n",
        "trg_vocab_size = len(TRG.vocab.stoi)\r\n",
        "pad_idx = SRC.vocab.stoi[PAD_TOKEN]\r\n",
        "\r\n",
        "# Model ((self, size, n_heads, self_attn, src_attn, feed_forward, dropout):\r\n",
        "model = Transformer(src_vocab_size,trg_vocab_size,d_model, nhead, num_layers,\r\n",
        "                    dim_feedforward, dropout,pad_idx,device).to(device)\r\n",
        "\r\n",
        "#model2 = make_model(src_vocab_size,trg_vocab_size)\r\n",
        "train_transformer(model, n_iters=n_iters,report_iter_every=report_iter_every)"
      ],
      "execution_count": 42,
      "outputs": [
        {
          "output_type": "stream",
          "text": [
            "Epoch: 0 , Iter: 500 (10%) \n",
            " Avg. Loss: 1.6178 \n",
            " Elapsed Time: 0m 15s (remaining - 2m 18s) \n",
            " ==================================================\n",
            "Epoch: 0 , Iter: 1000 (20%) \n",
            " Avg. Loss: 0.1862 \n",
            " Elapsed Time: 0m 31s (remaining - 2m 4s) \n",
            " ==================================================\n",
            "Epoch: 0 , Iter: 1500 (30%) \n",
            " Avg. Loss: 0.0734 \n",
            " Elapsed Time: 0m 47s (remaining - 1m 50s) \n",
            " ==================================================\n",
            "Epoch: 0 , Iter: 2000 (40%) \n",
            " Avg. Loss: 0.0436 \n",
            " Elapsed Time: 1m 3s (remaining - 1m 35s) \n",
            " ==================================================\n",
            "Epoch: 0 , Iter: 2500 (50%) \n",
            " Avg. Loss: 0.0433 \n",
            " Elapsed Time: 1m 19s (remaining - 1m 19s) \n",
            " ==================================================\n",
            "Epoch: 0 , Iter: 3000 (60%) \n",
            " Avg. Loss: 0.0396 \n",
            " Elapsed Time: 1m 36s (remaining - 1m 4s) \n",
            " ==================================================\n",
            "Epoch: 0 , Iter: 3500 (70%) \n",
            " Avg. Loss: 0.0269 \n",
            " Elapsed Time: 1m 52s (remaining - 0m 48s) \n",
            " ==================================================\n",
            "Epoch: 0 , Iter: 4000 (80%) \n",
            " Avg. Loss: 0.0253 \n",
            " Elapsed Time: 2m 9s (remaining - 0m 32s) \n",
            " ==================================================\n",
            "Epoch: 0 , Iter: 4500 (90%) \n",
            " Avg. Loss: 0.0415 \n",
            " Elapsed Time: 2m 25s (remaining - 0m 16s) \n",
            " ==================================================\n",
            "Epoch: 0 , Iter: 5000 (100%) \n",
            " Avg. Loss: 0.0481 \n",
            " Elapsed Time: 2m 40s (remaining - 0m 0s) \n",
            " ==================================================\n"
          ],
          "name": "stdout"
        },
        {
          "output_type": "display_data",
          "data": {
            "text/plain": [
              "<Figure size 432x288 with 0 Axes>"
            ]
          },
          "metadata": {
            "tags": []
          }
        },
        {
          "output_type": "display_data",
          "data": {
            "image/png": "[encoded data removed]",
            "text/plain": [
              "<Figure size 432x288 with 1 Axes>"
            ]
          },
          "metadata": {
            "tags": [],
            "needs_background": "light"
          }
        }
      ]
    },
    {
      "cell_type": "code",
      "metadata": {
        "colab": {
          "base_uri": "https://localhost:8080/"
        },
        "id": "TxsFZW9kTkDc",
        "outputId": "6b3b661b-df68-4f99-ae22-72cdf338ac8a"
      },
      "source": [
        "# Checkpoint on test data\r\n",
        "test_acc = test(test_loader, model, pad_idx, device)\r\n",
        "print(\"Test accuracy is \", test_acc)"
      ],
      "execution_count": 43,
      "outputs": [
        {
          "output_type": "stream",
          "text": [
            "Checking test accuracy...\n",
            "Test accuracy is  0.35725408772385153\n"
          ],
          "name": "stdout"
        }
      ]
    },
    {
      "cell_type": "code",
      "metadata": {
        "id": "WZiM83pJTkDd"
      },
      "source": [
        "# \"translate\" n random commands from dataset into actions\r\n",
        "def translate_commands(model, ds = test_dataset, n=3):\r\n",
        "    model.eval()\r\n",
        "    for i in range(n):\r\n",
        "      idx = random.randint(0,len(ds))\r\n",
        "      print(idx)\r\n",
        "      print('>', to_sentence(ds.commands[idx],idx2command))\r\n",
        "      print('=', to_sentence(ds.actions[idx], idx2action))\r\n",
        "      out, attn_wts = model(ds.__getitem__(idx)[0].long().to(device),ds.__getitem__(idx)[1].long().to(device))\r\n",
        "      preds = torch.argmax(out,dim=2)\r\n",
        "      preds = preds.squeeze(dim =1).tolist()[:-1] # we need to remove the last element in the list\r\n",
        "      print('<', to_sentence(preds, idx2action))\r\n",
        "      #return to_sentence(preds, idx2action)\r\n"
      ],
      "execution_count": 44,
      "outputs": []
    },
    {
      "cell_type": "code",
      "metadata": {
        "colab": {
          "base_uri": "https://localhost:8080/"
        },
        "id": "HpLR7ePrTkDd",
        "outputId": "6948707b-fdb4-4174-93a5-c6195ceeaf08"
      },
      "source": [
        "trans = translate_commands(model)"
      ],
      "execution_count": 45,
      "outputs": [
        {
          "output_type": "stream",
          "text": [
            "4287\n",
            "> ['turn', 'opposite', 'right', 'after', 'jump', 'opposite', 'right', 'twice']\n",
            "= ['I_TURN_RIGHT', 'I_TURN_RIGHT', 'I_JUMP', 'I_TURN_RIGHT', 'I_TURN_RIGHT', 'I_JUMP', 'I_TURN_RIGHT', 'I_TURN_RIGHT']\n",
            "< ['I_TURN_RIGHT', 'I_TURN_RIGHT', 'I_JUMP', 'I_TURN_RIGHT', 'I_TURN_RIGHT', 'I_JUMP', 'I_TURN_RIGHT', 'I_TURN_RIGHT']\n",
            "3217\n",
            "> ['walk', 'around', 'right', 'and', 'jump', 'left']\n",
            "= ['I_TURN_RIGHT', 'I_WALK', 'I_TURN_RIGHT', 'I_WALK', 'I_TURN_RIGHT', 'I_WALK', 'I_TURN_RIGHT', 'I_WALK', 'I_TURN_LEFT', 'I_JUMP']\n",
            "< ['I_TURN_RIGHT', 'I_WALK', 'I_TURN_RIGHT', 'I_WALK', 'I_TURN_RIGHT', 'I_WALK', 'I_TURN_RIGHT', 'I_WALK', 'I_TURN_LEFT', 'I_WALK']\n",
            "6999\n",
            "> ['jump', 'around', 'left', 'and', 'walk', 'opposite', 'left']\n",
            "= ['I_TURN_LEFT', 'I_JUMP', 'I_TURN_LEFT', 'I_JUMP', 'I_TURN_LEFT', 'I_JUMP', 'I_TURN_LEFT', 'I_JUMP', 'I_TURN_LEFT', 'I_TURN_LEFT', 'I_WALK']\n",
            "< ['I_TURN_LEFT', 'I_TURN_LEFT', 'I_TURN_LEFT', 'I_TURN_LEFT', 'I_TURN_LEFT', 'I_TURN_LEFT', 'I_TURN_LEFT', 'I_TURN_LEFT', 'I_TURN_LEFT', 'I_TURN_LEFT', 'I_WALK']\n"
          ],
          "name": "stdout"
        }
      ]
    },
    {
      "cell_type": "code",
      "metadata": {
        "id": "CdMaI2kR4UQ5"
      },
      "source": [
        ""
      ],
      "execution_count": 45,
      "outputs": []
    }
  ]
}